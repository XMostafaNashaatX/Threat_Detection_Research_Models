{
  "cells": [
    {
      "cell_type": "code",
      "execution_count": 1,
      "metadata": {
        "colab": {
          "base_uri": "https://localhost:8080/"
        },
        "id": "J_WdifqJ9NBY",
        "outputId": "d3bdaa53-1fea-4bb9-db9d-9cbe826b08f7"
      },
      "outputs": [
        {
          "name": "stdout",
          "output_type": "stream",
          "text": [
            "Requirement already satisfied: pydub in /usr/local/lib/python3.11/dist-packages (0.25.1)\n"
          ]
        }
      ],
      "source": [
        "!pip install pydub"
      ]
    },
    {
      "cell_type": "code",
      "execution_count": 3,
      "metadata": {
        "colab": {
          "base_uri": "https://localhost:8080/"
        },
        "id": "ZvfmyX6iZs5n",
        "outputId": "8146a983-bdbf-4505-d079-de084052bc3d"
      },
      "outputs": [
        {
          "name": "stdout",
          "output_type": "stream",
          "text": [
            "Requirement already satisfied: pandas in /usr/local/lib/python3.11/dist-packages (2.2.3)\n",
            "Requirement already satisfied: numpy>=1.23.2 in /usr/local/lib/python3.11/dist-packages (from pandas) (1.26.4)\n",
            "Requirement already satisfied: python-dateutil>=2.8.2 in /usr/local/lib/python3.11/dist-packages (from pandas) (2.8.2)\n",
            "Requirement already satisfied: pytz>=2020.1 in /usr/local/lib/python3.11/dist-packages (from pandas) (2025.2)\n",
            "Requirement already satisfied: tzdata>=2022.7 in /usr/local/lib/python3.11/dist-packages (from pandas) (2025.2)\n",
            "Requirement already satisfied: six>=1.5 in /usr/local/lib/python3.11/dist-packages (from python-dateutil>=2.8.2->pandas) (1.17.0)\n"
          ]
        }
      ],
      "source": [
        "#!pip install --upgrade pandas"
      ]
    },
    {
      "cell_type": "code",
      "execution_count": 2,
      "metadata": {
        "id": "KLd9lwG__5_T"
      },
      "outputs": [],
      "source": [
        "import numpy as np\n",
        "import pandas as pd\n",
        "import os\n",
        "import subprocess\n",
        "from IPython.display import Audio, Video, display\n",
        "import random\n",
        "import librosa\n",
        "import numpy as np\n",
        "import cv2\n",
        "import tensorflow as tf\n",
        "from tensorflow.keras import layers\n",
        "import matplotlib.pyplot as plt"
      ]
    },
    {
      "cell_type": "code",
      "execution_count": 3,
      "metadata": {
        "id": "sJh46Bb7Khyx"
      },
      "outputs": [],
      "source": [
        "def get_file_size(file_path):\n",
        "    return os.path.getsize(file_path)"
      ]
    },
    {
      "cell_type": "code",
      "execution_count": 4,
      "metadata": {
        "id": "ZM2O0u26L0zI"
      },
      "outputs": [],
      "source": [
        "def format_size(size_bytes):\n",
        "\n",
        "    for unit in ['bytes', 'KB', 'MB', 'GB', 'TB']:\n",
        "        if size_bytes < 1024.0:\n",
        "            return f\"{size_bytes:.2f} {unit}\"\n",
        "        size_bytes /= 1024.0"
      ]
    },
    {
      "cell_type": "code",
      "execution_count": 6,
      "metadata": {
        "id": "AK7qgWHa0Ekf"
      },
      "outputs": [],
      "source": [
        "def sample_of_data(audio_dir, video_dir, sample_percentage=0.2):\n",
        "\n",
        "    audio_files = os.listdir(audio_dir)\n",
        "    video_files = os.listdir(video_dir)\n",
        "\n",
        "    num_samples = int(len(audio_files) * sample_percentage)\n",
        "    sampled_audio_files = random.sample(audio_files, num_samples)\n",
        "\n",
        "    sampled_video_files = [f.replace('.wav', '.flv') for f in sampled_audio_files]\n",
        "\n",
        "    sampled_audio_paths = [os.path.join(audio_dir, f) for f in sampled_audio_files]\n",
        "    sampled_video_paths = [os.path.join(video_dir, f) for f in sampled_video_files]\n",
        "\n",
        "    return sampled_audio_paths, sampled_video_paths"
      ]
    },
    {
      "cell_type": "code",
      "execution_count": 8,
      "metadata": {
        "id": "fQxij7tbXsU9"
      },
      "outputs": [],
      "source": [
        "def sample_of_data_audio(audio_dir, sample_percentage=0.2):\n",
        "\n",
        "    audio_files = os.listdir(audio_dir)\n",
        "    num_samples = int(len(audio_files) * sample_percentage)\n",
        "    sampled_audio_files = random.sample(audio_files, num_samples)\n",
        "    sampled_audio_paths = [os.path.join(audio_dir, f) for f in sampled_audio_files]\n",
        "\n",
        "    return sampled_audio_paths"
      ]
    },
    {
      "cell_type": "code",
      "execution_count": 9,
      "metadata": {
        "id": "UeyxJ0KEOIrA"
      },
      "outputs": [],
      "source": [
        "!rm -rf CREMA-D"
      ]
    },
    {
      "cell_type": "code",
      "execution_count": 11,
      "metadata": {
        "colab": {
          "base_uri": "https://localhost:8080/"
        },
        "id": "DUdDvHACXt2n",
        "outputId": "65ae17ef-3930-4220-b4ec-ba7f9138dac6"
      },
      "outputs": [
        {
          "name": "stdout",
          "output_type": "stream",
          "text": [
            "Cloning into 'CREMA-D'...\n",
            "remote: Enumerating objects: 22518, done.\u001b[K\n",
            "remote: Counting objects: 100% (90/90), done.\u001b[K\n",
            "remote: Compressing objects: 100% (77/77), done.\u001b[K\n",
            "remote: Total 22518 (delta 32), reused 57 (delta 13), pack-reused 22428 (from 1)\u001b[K\n",
            "Receiving objects: 100% (22518/22518), 14.82 MiB | 14.46 MiB/s, done.\n",
            "Resolving deltas: 100% (85/85), done.\n",
            "Updating files: 100% (22342/22342), done.\n",
            "warning: Clone succeeded, but checkout failed.\n",
            "You can inspect what was checked out with 'git status'\n",
            "and retry with 'git restore --source=HEAD :/'\n",
            "\n",
            "\n",
            "Exiting because of \"interrupt\" signal.\n",
            "^C\n",
            "Sampled audio files: []\n",
            "Total audio size: 0 bytes\n",
            "Total audio size: 0.00 bytes\n"
          ]
        }
      ],
      "source": [
        "!git clone https://github.com/CheyneyComputerScience/CREMA-D.git\n",
        "\n",
        "audio_dir = os.path.join(os.getcwd(), \"CREMA-D/AudioWAV\")\n",
        "sampled_audio_paths = sample_of_data_audio(audio_dir, sample_percentage=0.05)\n",
        "\n",
        "print(\"Sampled audio files:\", sampled_audio_paths)\n",
        "\n",
        "total_audio_size = 0\n",
        "for audio_path in sampled_audio_paths:\n",
        "    total_audio_size += get_file_size(audio_path)\n",
        "\n",
        "\n",
        "print(f\"Total audio size: {total_audio_size} bytes\")\n",
        "print(f\"Total audio size: {format_size(total_audio_size)}\")"
      ]
    },
    {
      "cell_type": "code",
      "execution_count": null,
      "metadata": {
        "colab": {
          "base_uri": "https://localhost:8080/",
          "height": 584
        },
        "id": "tQOuwChXyhEM",
        "outputId": "5aef151b-6ec8-44f0-8a80-17c2a7bcb640"
      },
      "outputs": [
        {
          "name": "stdout",
          "output_type": "stream",
          "text": [
            "Cloning into 'CREMA-D'...\n",
            "remote: Enumerating objects: 22518, done.\u001b[K\n",
            "remote: Counting objects:   1% (1/90)\u001b[K\rremote: Counting objects:   2% (2/90)\u001b[K\rremote: Counting objects:   3% (3/90)\u001b[K\rremote: Counting objects:   4% (4/90)\u001b[K\rremote: Counting objects:   5% (5/90)\u001b[K\rremote: Counting objects:   6% (6/90)\u001b[K\rremote: Counting objects:   7% (7/90)\u001b[K\rremote: Counting objects:   8% (8/90)\u001b[K\rremote: Counting objects:  10% (9/90)\u001b[K\rremote: Counting objects:  11% (10/90)\u001b[K\rremote: Counting objects:  12% (11/90)\u001b[K\rremote: Counting objects:  13% (12/90)\u001b[K\rremote: Counting objects:  14% (13/90)\u001b[K\rremote: Counting objects:  15% (14/90)\u001b[K\rremote: Counting objects:  16% (15/90)\u001b[K\rremote: Counting objects:  17% (16/90)\u001b[K\rremote: Counting objects:  18% (17/90)\u001b[K\rremote: Counting objects:  20% (18/90)\u001b[K\rremote: Counting objects:  21% (19/90)\u001b[K\rremote: Counting objects:  22% (20/90)\u001b[K\rremote: Counting objects:  23% (21/90)\u001b[K\rremote: Counting objects:  24% (22/90)\u001b[K\rremote: Counting objects:  25% (23/90)\u001b[K\rremote: Counting objects:  26% (24/90)\u001b[K\rremote: Counting objects:  27% (25/90)\u001b[K\rremote: Counting objects:  28% (26/90)\u001b[K\rremote: Counting objects:  30% (27/90)\u001b[K\rremote: Counting objects:  31% (28/90)\u001b[K\rremote: Counting objects:  32% (29/90)\u001b[K\rremote: Counting objects:  33% (30/90)\u001b[K\rremote: Counting objects:  34% (31/90)\u001b[K\rremote: Counting objects:  35% (32/90)\u001b[K\rremote: Counting objects:  36% (33/90)\u001b[K\rremote: Counting objects:  37% (34/90)\u001b[K\rremote: Counting objects:  38% (35/90)\u001b[K\rremote: Counting objects:  40% (36/90)\u001b[K\rremote: Counting objects:  41% (37/90)\u001b[K\rremote: Counting objects:  42% (38/90)\u001b[K\rremote: Counting objects:  43% (39/90)\u001b[K\rremote: Counting objects:  44% (40/90)\u001b[K\rremote: Counting objects:  45% (41/90)\u001b[K\rremote: Counting objects:  46% (42/90)\u001b[K\rremote: Counting objects:  47% (43/90)\u001b[K\rremote: Counting objects:  48% (44/90)\u001b[K\rremote: Counting objects:  50% (45/90)\u001b[K\rremote: Counting objects:  51% (46/90)\u001b[K\rremote: Counting objects:  52% (47/90)\u001b[K\rremote: Counting objects:  53% (48/90)\u001b[K\rremote: Counting objects:  54% (49/90)\u001b[K\rremote: Counting objects:  55% (50/90)\u001b[K\rremote: Counting objects:  56% (51/90)\u001b[K\rremote: Counting objects:  57% (52/90)\u001b[K\rremote: Counting objects:  58% (53/90)\u001b[K\rremote: Counting objects:  60% (54/90)\u001b[K\rremote: Counting objects:  61% (55/90)\u001b[K\rremote: Counting objects:  62% (56/90)\u001b[K\rremote: Counting objects:  63% (57/90)\u001b[K\rremote: Counting objects:  64% (58/90)\u001b[K\rremote: Counting objects:  65% (59/90)\u001b[K\rremote: Counting objects:  66% (60/90)\u001b[K\rremote: Counting objects:  67% (61/90)\u001b[K\rremote: Counting objects:  68% (62/90)\u001b[K\rremote: Counting objects:  70% (63/90)\u001b[K\rremote: Counting objects:  71% (64/90)\u001b[K\rremote: Counting objects:  72% (65/90)\u001b[K\rremote: Counting objects:  73% (66/90)\u001b[K\rremote: Counting objects:  74% (67/90)\u001b[K\rremote: Counting objects:  75% (68/90)\u001b[K\rremote: Counting objects:  76% (69/90)\u001b[K\rremote: Counting objects:  77% (70/90)\u001b[K\rremote: Counting objects:  78% (71/90)\u001b[K\rremote: Counting objects:  80% (72/90)\u001b[K\rremote: Counting objects:  81% (73/90)\u001b[K\rremote: Counting objects:  82% (74/90)\u001b[K\rremote: Counting objects:  83% (75/90)\u001b[K\rremote: Counting objects:  84% (76/90)\u001b[K\rremote: Counting objects:  85% (77/90)\u001b[K\rremote: Counting objects:  86% (78/90)\u001b[K\rremote: Counting objects:  87% (79/90)\u001b[K\rremote: Counting objects:  88% (80/90)\u001b[K\rremote: Counting objects:  90% (81/90)\u001b[K\rremote: Counting objects:  91% (82/90)\u001b[K\rremote: Counting objects:  92% (83/90)\u001b[K\rremote: Counting objects:  93% (84/90)\u001b[K\rremote: Counting objects:  94% (85/90)\u001b[K\rremote: Counting objects:  95% (86/90)\u001b[K\rremote: Counting objects:  96% (87/90)\u001b[K\rremote: Counting objects:  97% (88/90)\u001b[K\rremote: Counting objects:  98% (89/90)\u001b[K\rremote: Counting objects: 100% (90/90)\u001b[K\rremote: Counting objects: 100% (90/90), done.\u001b[K\n",
            "remote: Compressing objects: 100% (77/77), done.\u001b[K\n",
            "remote: Total 22518 (delta 32), reused 57 (delta 13), pack-reused 22428 (from 1)\u001b[K\n",
            "Receiving objects: 100% (22518/22518), 14.82 MiB | 15.41 MiB/s, done.\n",
            "Resolving deltas: 100% (85/85), done.\n",
            "Updating files: 100% (22342/22342), done.\n",
            "warning: Clone succeeded, but checkout failed.\n",
            "You can inspect what was checked out with 'git status'\n",
            "and retry with 'git restore --source=HEAD :/'\n",
            "\n",
            "\n",
            "Exiting because of \"interrupt\" signal.\n",
            "^C\n",
            "Sampled audio files: ['/content/CREMA-D/AudioWAV/1048_WSI_ANG_XX.wav', '/content/CREMA-D/AudioWAV/1063_IWL_ANG_XX.wav', '/content/CREMA-D/AudioWAV/1004_MTI_DIS_XX.wav', '/content/CREMA-D/AudioWAV/1033_ITH_FEA_XX.wav', '/content/CREMA-D/AudioWAV/1012_IWL_NEU_XX.wav', '/content/CREMA-D/AudioWAV/1047_TAI_SAD_XX.wav', '/content/CREMA-D/AudioWAV/1078_ITH_HAP_XX.wav', '/content/CREMA-D/AudioWAV/1084_TIE_SAD_XX.wav', '/content/CREMA-D/AudioWAV/1026_WSI_ANG_XX.wav', '/content/CREMA-D/AudioWAV/1040_ITS_DIS_XX.wav', '/content/CREMA-D/AudioWAV/1047_IEO_ANG_LO.wav', '/content/CREMA-D/AudioWAV/1058_WSI_HAP_XX.wav', '/content/CREMA-D/AudioWAV/1040_IEO_DIS_HI.wav', '/content/CREMA-D/AudioWAV/1049_IEO_FEA_LO.wav', '/content/CREMA-D/AudioWAV/1005_IOM_SAD_XX.wav', '/content/CREMA-D/AudioWAV/1077_TIE_SAD_XX.wav', '/content/CREMA-D/AudioWAV/1030_IEO_FEA_HI.wav', '/content/CREMA-D/AudioWAV/1051_IWW_HAP_XX.wav', '/content/CREMA-D/AudioWAV/1048_IOM_HAP_XX.wav', '/content/CREMA-D/AudioWAV/1053_IWW_NEU_XX.wav', '/content/CREMA-D/AudioWAV/1054_TSI_FEA_XX.wav', '/content/CREMA-D/AudioWAV/1080_IWL_HAP_XX.wav', '/content/CREMA-D/AudioWAV/1072_DFA_FEA_XX.wav', '/content/CREMA-D/AudioWAV/1018_TAI_FEA_XX.wav', '/content/CREMA-D/AudioWAV/1048_TIE_SAD_XX.wav', '/content/CREMA-D/AudioWAV/1049_WSI_HAP_XX.wav', '/content/CREMA-D/AudioWAV/1021_IWL_FEA_XX.wav', '/content/CREMA-D/AudioWAV/1072_ITS_SAD_XX.wav', '/content/CREMA-D/AudioWAV/1090_TAI_SAD_XX.wav', '/content/CREMA-D/AudioWAV/1059_IEO_NEU_XX.wav', '/content/CREMA-D/AudioWAV/1042_IEO_SAD_HI.wav', '/content/CREMA-D/AudioWAV/1043_IOM_NEU_XX.wav', '/content/CREMA-D/AudioWAV/1085_IOM_HAP_XX.wav', '/content/CREMA-D/AudioWAV/1006_DFA_ANG_XX.wav', '/content/CREMA-D/AudioWAV/1063_IOM_HAP_XX.wav', '/content/CREMA-D/AudioWAV/1018_WSI_NEU_XX.wav', '/content/CREMA-D/AudioWAV/1058_MTI_SAD_XX.wav', '/content/CREMA-D/AudioWAV/1024_TIE_SAD_XX.wav', '/content/CREMA-D/AudioWAV/1045_TIE_NEU_XX.wav', '/content/CREMA-D/AudioWAV/1041_IWL_DIS_XX.wav', '/content/CREMA-D/AudioWAV/1071_IEO_SAD_HI.wav', '/content/CREMA-D/AudioWAV/1059_ITS_HAP_XX.wav', '/content/CREMA-D/AudioWAV/1058_ITH_NEU_XX.wav', '/content/CREMA-D/AudioWAV/1071_ITS_SAD_XX.wav', '/content/CREMA-D/AudioWAV/1089_ITS_FEA_XX.wav', '/content/CREMA-D/AudioWAV/1053_ITS_HAP_XX.wav', '/content/CREMA-D/AudioWAV/1015_DFA_DIS_XX.wav', '/content/CREMA-D/AudioWAV/1017_ITS_SAD_XX.wav', '/content/CREMA-D/AudioWAV/1035_IEO_FEA_LO.wav', '/content/CREMA-D/AudioWAV/1082_TIE_HAP_XX.wav', '/content/CREMA-D/AudioWAV/1021_IOM_SAD_XX.wav', '/content/CREMA-D/AudioWAV/1029_ITH_FEA_XX.wav', '/content/CREMA-D/AudioWAV/1081_IWL_DIS_XX.wav', '/content/CREMA-D/AudioWAV/1066_IOM_ANG_XX.wav', '/content/CREMA-D/AudioWAV/1016_IWW_SAD_XX.wav', '/content/CREMA-D/AudioWAV/1022_IWW_HAP_XX.wav', '/content/CREMA-D/AudioWAV/1080_WSI_DIS_XX.wav', '/content/CREMA-D/AudioWAV/1056_TSI_ANG_XX.wav', '/content/CREMA-D/AudioWAV/1013_TSI_ANG_XX.wav', '/content/CREMA-D/AudioWAV/1040_DFA_DIS_XX.wav', '/content/CREMA-D/AudioWAV/1086_IWL_DIS_XX.wav', '/content/CREMA-D/AudioWAV/1090_IOM_DIS_XX.wav', '/content/CREMA-D/AudioWAV/1042_MTI_FEA_XX.wav', '/content/CREMA-D/AudioWAV/1072_IWW_NEU_XX.wav', '/content/CREMA-D/AudioWAV/1040_IOM_SAD_XX.wav', '/content/CREMA-D/AudioWAV/1028_TSI_FEA_XX.wav', '/content/CREMA-D/AudioWAV/1038_IEO_SAD_MD.wav', '/content/CREMA-D/AudioWAV/1089_IOM_ANG_XX.wav', '/content/CREMA-D/AudioWAV/1027_IWW_SAD_XX.wav', '/content/CREMA-D/AudioWAV/1066_TAI_FEA_XX.wav', '/content/CREMA-D/AudioWAV/1062_DFA_ANG_XX.wav', '/content/CREMA-D/AudioWAV/1074_IEO_ANG_LO.wav', '/content/CREMA-D/AudioWAV/1034_WSI_NEU_XX.wav', '/content/CREMA-D/AudioWAV/1059_TIE_HAP_XX.wav', '/content/CREMA-D/AudioWAV/1004_IEO_FEA_LO.wav', '/content/CREMA-D/AudioWAV/1065_MTI_FEA_XX.wav', '/content/CREMA-D/AudioWAV/1066_MTI_ANG_XX.wav', '/content/CREMA-D/AudioWAV/1084_IWW_ANG_XX.wav', '/content/CREMA-D/AudioWAV/1058_TSI_DIS_XX.wav', '/content/CREMA-D/AudioWAV/1080_IWL_ANG_XX.wav', '/content/CREMA-D/AudioWAV/1087_TIE_HAP_XX.wav', '/content/CREMA-D/AudioWAV/1027_IWL_NEU_XX.wav', '/content/CREMA-D/AudioWAV/1084_ITH_NEU_XX.wav', '/content/CREMA-D/AudioWAV/1049_IEO_FEA_MD.wav', '/content/CREMA-D/AudioWAV/1016_IWL_FEA_XX.wav', '/content/CREMA-D/AudioWAV/1059_ITH_ANG_XX.wav', '/content/CREMA-D/AudioWAV/1091_TAI_ANG_XX.wav', '/content/CREMA-D/AudioWAV/1081_WSI_FEA_XX.wav', '/content/CREMA-D/AudioWAV/1038_IOM_ANG_XX.wav', '/content/CREMA-D/AudioWAV/1022_ITH_FEA_XX.wav', '/content/CREMA-D/AudioWAV/1075_MTI_HAP_XX.wav', '/content/CREMA-D/AudioWAV/1015_IWW_HAP_XX.wav', '/content/CREMA-D/AudioWAV/1070_IOM_SAD_XX.wav', '/content/CREMA-D/AudioWAV/1032_MTI_DIS_XX.wav', '/content/CREMA-D/AudioWAV/1083_IWW_DIS_XX.wav', '/content/CREMA-D/AudioWAV/1030_WSI_FEA_XX.wav', '/content/CREMA-D/AudioWAV/1091_ITS_DIS_XX.wav', '/content/CREMA-D/AudioWAV/1059_TSI_SAD_XX.wav', '/content/CREMA-D/AudioWAV/1062_WSI_ANG_XX.wav', '/content/CREMA-D/AudioWAV/1023_TAI_DIS_XX.wav', '/content/CREMA-D/AudioWAV/1042_WSI_NEU_XX.wav', '/content/CREMA-D/AudioWAV/1049_ITS_SAD_XX.wav', '/content/CREMA-D/AudioWAV/1059_IEO_FEA_LO.wav', '/content/CREMA-D/AudioWAV/1009_TIE_HAP_XX.wav', '/content/CREMA-D/AudioWAV/1008_ITH_ANG_XX.wav', '/content/CREMA-D/AudioWAV/1050_WSI_SAD_XX.wav', '/content/CREMA-D/AudioWAV/1085_IWL_FEA_XX.wav', '/content/CREMA-D/AudioWAV/1075_ITH_NEU_XX.wav', '/content/CREMA-D/AudioWAV/1068_IEO_HAP_HI.wav', '/content/CREMA-D/AudioWAV/1043_TIE_SAD_XX.wav', '/content/CREMA-D/AudioWAV/1054_IEO_DIS_MD.wav', '/content/CREMA-D/AudioWAV/1004_IEO_SAD_LO.wav', '/content/CREMA-D/AudioWAV/1030_IWW_NEU_XX.wav', '/content/CREMA-D/AudioWAV/1031_IWW_DIS_XX.wav', '/content/CREMA-D/AudioWAV/1066_IEO_ANG_HI.wav', '/content/CREMA-D/AudioWAV/1001_ITS_HAP_XX.wav', '/content/CREMA-D/AudioWAV/1029_IOM_NEU_XX.wav', '/content/CREMA-D/AudioWAV/1078_ITH_FEA_XX.wav', '/content/CREMA-D/AudioWAV/1063_IOM_NEU_XX.wav', '/content/CREMA-D/AudioWAV/1013_IEO_SAD_MD.wav', '/content/CREMA-D/AudioWAV/1031_TSI_DIS_XX.wav', '/content/CREMA-D/AudioWAV/1021_ITS_HAP_XX.wav', '/content/CREMA-D/AudioWAV/1077_DFA_HAP_XX.wav', '/content/CREMA-D/AudioWAV/1030_IEO_HAP_HI.wav', '/content/CREMA-D/AudioWAV/1022_IOM_ANG_XX.wav', '/content/CREMA-D/AudioWAV/1081_TIE_DIS_XX.wav', '/content/CREMA-D/AudioWAV/1015_WSI_HAP_XX.wav', '/content/CREMA-D/AudioWAV/1037_IWL_DIS_XX.wav', '/content/CREMA-D/AudioWAV/1036_ITS_NEU_XX.wav', '/content/CREMA-D/AudioWAV/1080_ITH_FEA_XX.wav', '/content/CREMA-D/AudioWAV/1015_ITS_NEU_XX.wav', '/content/CREMA-D/AudioWAV/1047_TIE_DIS_XX.wav', '/content/CREMA-D/AudioWAV/1059_IEO_ANG_HI.wav', '/content/CREMA-D/AudioWAV/1038_DFA_FEA_XX.wav', '/content/CREMA-D/AudioWAV/1029_IEO_FEA_LO.wav', '/content/CREMA-D/AudioWAV/1050_ITH_ANG_XX.wav', '/content/CREMA-D/AudioWAV/1026_DFA_SAD_XX.wav', '/content/CREMA-D/AudioWAV/1071_WSI_DIS_XX.wav', '/content/CREMA-D/AudioWAV/1035_MTI_HAP_XX.wav', '/content/CREMA-D/AudioWAV/1019_IOM_ANG_XX.wav', '/content/CREMA-D/AudioWAV/1058_TSI_FEA_XX.wav', '/content/CREMA-D/AudioWAV/1033_TAI_FEA_XX.wav', '/content/CREMA-D/AudioWAV/1031_WSI_FEA_XX.wav', '/content/CREMA-D/AudioWAV/1009_WSI_ANG_XX.wav', '/content/CREMA-D/AudioWAV/1009_IEO_FEA_HI.wav', '/content/CREMA-D/AudioWAV/1065_IEO_SAD_HI.wav', '/content/CREMA-D/AudioWAV/1052_ITH_NEU_XX.wav', '/content/CREMA-D/AudioWAV/1031_MTI_DIS_XX.wav', '/content/CREMA-D/AudioWAV/1070_TAI_SAD_XX.wav', '/content/CREMA-D/AudioWAV/1030_WSI_HAP_XX.wav', '/content/CREMA-D/AudioWAV/1071_IWW_HAP_XX.wav', '/content/CREMA-D/AudioWAV/1018_IEO_HAP_MD.wav', '/content/CREMA-D/AudioWAV/1078_IEO_FEA_MD.wav', '/content/CREMA-D/AudioWAV/1023_ITS_SAD_XX.wav', '/content/CREMA-D/AudioWAV/1085_TIE_ANG_XX.wav', '/content/CREMA-D/AudioWAV/1017_TSI_SAD_XX.wav', '/content/CREMA-D/AudioWAV/1091_WSI_FEA_XX.wav', '/content/CREMA-D/AudioWAV/1010_IEO_DIS_MD.wav', '/content/CREMA-D/AudioWAV/1009_IWW_DIS_XX.wav', '/content/CREMA-D/AudioWAV/1073_IEO_FEA_HI.wav', '/content/CREMA-D/AudioWAV/1037_ITH_FEA_XX.wav', '/content/CREMA-D/AudioWAV/1027_WSI_FEA_XX.wav', '/content/CREMA-D/AudioWAV/1046_TSI_HAP_XX.wav', '/content/CREMA-D/AudioWAV/1066_TIE_NEU_XX.wav', '/content/CREMA-D/AudioWAV/1042_IEO_HAP_HI.wav', '/content/CREMA-D/AudioWAV/1001_TIE_NEU_XX.wav', '/content/CREMA-D/AudioWAV/1042_IEO_HAP_MD.wav', '/content/CREMA-D/AudioWAV/1006_TIE_SAD_XX.wav', '/content/CREMA-D/AudioWAV/1010_IEO_FEA_MD.wav', '/content/CREMA-D/AudioWAV/1030_IEO_HAP_MD.wav', '/content/CREMA-D/AudioWAV/1041_TSI_NEU_XX.wav', '/content/CREMA-D/AudioWAV/1035_TAI_FEA_XX.wav', '/content/CREMA-D/AudioWAV/1084_IWW_HAP_XX.wav', '/content/CREMA-D/AudioWAV/1090_IWW_ANG_XX.wav', '/content/CREMA-D/AudioWAV/1046_DFA_FEA_XX.wav', '/content/CREMA-D/AudioWAV/1075_IWL_NEU_XX.wav', '/content/CREMA-D/AudioWAV/1030_TAI_FEA_XX.wav', '/content/CREMA-D/AudioWAV/1005_IEO_ANG_LO.wav', '/content/CREMA-D/AudioWAV/1085_TAI_ANG_XX.wav', '/content/CREMA-D/AudioWAV/1067_ITH_FEA_XX.wav', '/content/CREMA-D/AudioWAV/1077_MTI_SAD_XX.wav', '/content/CREMA-D/AudioWAV/1084_TSI_DIS_XX.wav', '/content/CREMA-D/AudioWAV/1009_TSI_FEA_XX.wav', '/content/CREMA-D/AudioWAV/1048_IWW_HAP_XX.wav', '/content/CREMA-D/AudioWAV/1073_TSI_ANG_XX.wav', '/content/CREMA-D/AudioWAV/1025_IEO_SAD_MD.wav', '/content/CREMA-D/AudioWAV/1081_IOM_FEA_XX.wav', '/content/CREMA-D/AudioWAV/1001_IWW_ANG_XX.wav', '/content/CREMA-D/AudioWAV/1074_IOM_HAP_XX.wav', '/content/CREMA-D/AudioWAV/1030_IEO_DIS_MD.wav', '/content/CREMA-D/AudioWAV/1077_IEO_SAD_HI.wav', '/content/CREMA-D/AudioWAV/1010_IWL_DIS_XX.wav', '/content/CREMA-D/AudioWAV/1080_IOM_ANG_XX.wav', '/content/CREMA-D/AudioWAV/1030_IOM_DIS_XX.wav', '/content/CREMA-D/AudioWAV/1035_MTI_NEU_XX.wav', '/content/CREMA-D/AudioWAV/1082_IEO_FEA_LO.wav', '/content/CREMA-D/AudioWAV/1069_TSI_DIS_XX.wav', '/content/CREMA-D/AudioWAV/1002_IOM_SAD_XX.wav', '/content/CREMA-D/AudioWAV/1042_IEO_FEA_MD.wav', '/content/CREMA-D/AudioWAV/1053_IEO_HAP_MD.wav', '/content/CREMA-D/AudioWAV/1050_IEO_SAD_HI.wav', '/content/CREMA-D/AudioWAV/1017_IEO_HAP_LO.wav', '/content/CREMA-D/AudioWAV/1015_IWL_DIS_XX.wav', '/content/CREMA-D/AudioWAV/1090_TAI_HAP_XX.wav', '/content/CREMA-D/AudioWAV/1015_DFA_NEU_XX.wav', '/content/CREMA-D/AudioWAV/1065_IEO_ANG_MD.wav', '/content/CREMA-D/AudioWAV/1054_TSI_SAD_XX.wav', '/content/CREMA-D/AudioWAV/1075_WSI_NEU_XX.wav', '/content/CREMA-D/AudioWAV/1086_TSI_SAD_XX.wav', '/content/CREMA-D/AudioWAV/1044_TIE_SAD_XX.wav', '/content/CREMA-D/AudioWAV/1053_IOM_FEA_XX.wav', '/content/CREMA-D/AudioWAV/1024_TAI_SAD_XX.wav', '/content/CREMA-D/AudioWAV/1081_DFA_SAD_XX.wav', '/content/CREMA-D/AudioWAV/1034_TSI_ANG_XX.wav', '/content/CREMA-D/AudioWAV/1079_IEO_NEU_XX.wav', '/content/CREMA-D/AudioWAV/1026_IWW_SAD_XX.wav', '/content/CREMA-D/AudioWAV/1022_IEO_SAD_HI.wav', '/content/CREMA-D/AudioWAV/1046_DFA_HAP_XX.wav', '/content/CREMA-D/AudioWAV/1060_IEO_FEA_MD.wav', '/content/CREMA-D/AudioWAV/1016_WSI_ANG_XX.wav', '/content/CREMA-D/AudioWAV/1029_TIE_FEA_XX.wav', '/content/CREMA-D/AudioWAV/1022_WSI_HAP_XX.wav', '/content/CREMA-D/AudioWAV/1064_ITS_ANG_XX.wav', '/content/CREMA-D/AudioWAV/1080_ITH_NEU_XX.wav', '/content/CREMA-D/AudioWAV/1078_TAI_HAP_XX.wav', '/content/CREMA-D/AudioWAV/1041_MTI_NEU_XX.wav', '/content/CREMA-D/AudioWAV/1058_IWW_DIS_XX.wav', '/content/CREMA-D/AudioWAV/1064_DFA_SAD_XX.wav', '/content/CREMA-D/AudioWAV/1086_IEO_SAD_LO.wav', '/content/CREMA-D/AudioWAV/1009_TSI_HAP_XX.wav', '/content/CREMA-D/AudioWAV/1056_TIE_FEA_XX.wav', '/content/CREMA-D/AudioWAV/1068_IOM_DIS_XX.wav', '/content/CREMA-D/AudioWAV/1051_IEO_HAP_LO.wav', '/content/CREMA-D/AudioWAV/1004_IOM_DIS_XX.wav', '/content/CREMA-D/AudioWAV/1053_WSI_NEU_XX.wav', '/content/CREMA-D/AudioWAV/1023_ITS_NEU_XX.wav', '/content/CREMA-D/AudioWAV/1079_IEO_FEA_LO.wav', '/content/CREMA-D/AudioWAV/1067_ITS_ANG_XX.wav', '/content/CREMA-D/AudioWAV/1014_MTI_DIS_XX.wav', '/content/CREMA-D/AudioWAV/1089_TAI_SAD_XX.wav', '/content/CREMA-D/AudioWAV/1021_IOM_DIS_XX.wav', '/content/CREMA-D/AudioWAV/1069_IWW_NEU_XX.wav', '/content/CREMA-D/AudioWAV/1018_TAI_HAP_XX.wav', '/content/CREMA-D/AudioWAV/1017_MTI_HAP_XX.wav', '/content/CREMA-D/AudioWAV/1065_IOM_ANG_XX.wav', '/content/CREMA-D/AudioWAV/1036_DFA_FEA_XX.wav', '/content/CREMA-D/AudioWAV/1064_WSI_HAP_XX.wav', '/content/CREMA-D/AudioWAV/1038_IEO_FEA_MD.wav', '/content/CREMA-D/AudioWAV/1017_WSI_NEU_XX.wav', '/content/CREMA-D/AudioWAV/1064_ITS_SAD_XX.wav', '/content/CREMA-D/AudioWAV/1078_IEO_DIS_HI.wav', '/content/CREMA-D/AudioWAV/1080_IOM_NEU_XX.wav', '/content/CREMA-D/AudioWAV/1015_IOM_HAP_XX.wav', '/content/CREMA-D/AudioWAV/1080_ITS_FEA_XX.wav', '/content/CREMA-D/AudioWAV/1073_TIE_FEA_XX.wav', '/content/CREMA-D/AudioWAV/1001_ITS_NEU_XX.wav', '/content/CREMA-D/AudioWAV/1015_IEO_DIS_LO.wav', '/content/CREMA-D/AudioWAV/1001_IEO_SAD_HI.wav', '/content/CREMA-D/AudioWAV/1051_IWW_SAD_XX.wav', '/content/CREMA-D/AudioWAV/1024_IEO_ANG_MD.wav', '/content/CREMA-D/AudioWAV/1061_DFA_NEU_XX.wav', '/content/CREMA-D/AudioWAV/1078_MTI_ANG_XX.wav', '/content/CREMA-D/AudioWAV/1087_ITH_FEA_XX.wav', '/content/CREMA-D/AudioWAV/1022_IWL_SAD_XX.wav', '/content/CREMA-D/AudioWAV/1068_ITH_FEA_XX.wav', '/content/CREMA-D/AudioWAV/1041_IOM_ANG_XX.wav', '/content/CREMA-D/AudioWAV/1012_TIE_ANG_XX.wav', '/content/CREMA-D/AudioWAV/1059_DFA_NEU_XX.wav', '/content/CREMA-D/AudioWAV/1057_TSI_FEA_XX.wav', '/content/CREMA-D/AudioWAV/1079_TSI_FEA_XX.wav', '/content/CREMA-D/AudioWAV/1044_WSI_HAP_XX.wav', '/content/CREMA-D/AudioWAV/1041_IOM_NEU_XX.wav', '/content/CREMA-D/AudioWAV/1065_TIE_DIS_XX.wav', '/content/CREMA-D/AudioWAV/1010_WSI_FEA_XX.wav', '/content/CREMA-D/AudioWAV/1072_ITH_ANG_XX.wav', '/content/CREMA-D/AudioWAV/1034_TIE_SAD_XX.wav', '/content/CREMA-D/AudioWAV/1081_TIE_HAP_XX.wav', '/content/CREMA-D/AudioWAV/1053_IEO_NEU_XX.wav', '/content/CREMA-D/AudioWAV/1046_TAI_SAD_XX.wav', '/content/CREMA-D/AudioWAV/1081_ITS_SAD_XX.wav', '/content/CREMA-D/AudioWAV/1069_TIE_SAD_XX.wav', '/content/CREMA-D/AudioWAV/1088_IEO_ANG_MD.wav', '/content/CREMA-D/AudioWAV/1081_TSI_DIS_XX.wav', '/content/CREMA-D/AudioWAV/1071_TSI_DIS_XX.wav', '/content/CREMA-D/AudioWAV/1084_WSI_ANG_XX.wav', '/content/CREMA-D/AudioWAV/1030_IWL_FEA_XX.wav', '/content/CREMA-D/AudioWAV/1008_IOM_SAD_XX.wav', '/content/CREMA-D/AudioWAV/1004_IWW_SAD_XX.wav', '/content/CREMA-D/AudioWAV/1023_IEO_HAP_HI.wav', '/content/CREMA-D/AudioWAV/1067_TAI_FEA_XX.wav', '/content/CREMA-D/AudioWAV/1002_IWL_NEU_XX.wav', '/content/CREMA-D/AudioWAV/1040_IWL_NEU_XX.wav', '/content/CREMA-D/AudioWAV/1013_DFA_DIS_XX.wav', '/content/CREMA-D/AudioWAV/1057_TIE_ANG_XX.wav', '/content/CREMA-D/AudioWAV/1081_TAI_NEU_XX.wav', '/content/CREMA-D/AudioWAV/1062_ITH_HAP_XX.wav', '/content/CREMA-D/AudioWAV/1057_ITS_SAD_XX.wav', '/content/CREMA-D/AudioWAV/1020_IOM_FEA_XX.wav', '/content/CREMA-D/AudioWAV/1002_TSI_NEU_XX.wav', '/content/CREMA-D/AudioWAV/1051_WSI_ANG_XX.wav', '/content/CREMA-D/AudioWAV/1040_TAI_SAD_XX.wav', '/content/CREMA-D/AudioWAV/1008_MTI_DIS_XX.wav', '/content/CREMA-D/AudioWAV/1036_IWL_FEA_XX.wav', '/content/CREMA-D/AudioWAV/1018_TSI_ANG_XX.wav', '/content/CREMA-D/AudioWAV/1008_ITH_NEU_XX.wav', '/content/CREMA-D/AudioWAV/1060_TSI_FEA_XX.wav', '/content/CREMA-D/AudioWAV/1053_IEO_HAP_LO.wav', '/content/CREMA-D/AudioWAV/1090_TAI_FEA_XX.wav', '/content/CREMA-D/AudioWAV/1031_TSI_HAP_XX.wav', '/content/CREMA-D/AudioWAV/1079_DFA_FEA_XX.wav', '/content/CREMA-D/AudioWAV/1010_TIE_HAP_XX.wav', '/content/CREMA-D/AudioWAV/1080_TAI_DIS_XX.wav', '/content/CREMA-D/AudioWAV/1080_IEO_FEA_LO.wav', '/content/CREMA-D/AudioWAV/1038_MTI_HAP_XX.wav', '/content/CREMA-D/AudioWAV/1036_DFA_DIS_XX.wav', '/content/CREMA-D/AudioWAV/1086_IOM_DIS_XX.wav', '/content/CREMA-D/AudioWAV/1044_ITS_SAD_XX.wav', '/content/CREMA-D/AudioWAV/1069_IWW_DIS_XX.wav', '/content/CREMA-D/AudioWAV/1065_TIE_NEU_XX.wav', '/content/CREMA-D/AudioWAV/1089_IWL_FEA_XX.wav', '/content/CREMA-D/AudioWAV/1004_IWW_FEA_XX.wav', '/content/CREMA-D/AudioWAV/1026_IEO_HAP_LO.wav', '/content/CREMA-D/AudioWAV/1083_TAI_SAD_XX.wav', '/content/CREMA-D/AudioWAV/1042_IEO_ANG_LO.wav', '/content/CREMA-D/AudioWAV/1022_TAI_ANG_XX.wav', '/content/CREMA-D/AudioWAV/1046_IWL_SAD_XX.wav', '/content/CREMA-D/AudioWAV/1040_IWW_HAP_XX.wav', '/content/CREMA-D/AudioWAV/1040_ITS_ANG_XX.wav', '/content/CREMA-D/AudioWAV/1024_IWW_NEU_XX.wav', '/content/CREMA-D/AudioWAV/1042_TAI_FEA_XX.wav', '/content/CREMA-D/AudioWAV/1053_DFA_HAP_XX.wav', '/content/CREMA-D/AudioWAV/1015_TAI_SAD_XX.wav', '/content/CREMA-D/AudioWAV/1027_IEO_HAP_HI.wav', '/content/CREMA-D/AudioWAV/1029_TAI_ANG_XX.wav', '/content/CREMA-D/AudioWAV/1024_ITS_NEU_XX.wav', '/content/CREMA-D/AudioWAV/1082_IEO_HAP_HI.wav', '/content/CREMA-D/AudioWAV/1045_IEO_HAP_MD.wav', '/content/CREMA-D/AudioWAV/1003_IWW_DIS_XX.wav', '/content/CREMA-D/AudioWAV/1071_IWL_HAP_XX.wav', '/content/CREMA-D/AudioWAV/1065_TIE_ANG_XX.wav', '/content/CREMA-D/AudioWAV/1068_DFA_SAD_XX.wav', '/content/CREMA-D/AudioWAV/1076_ITS_SAD_XX.wav', '/content/CREMA-D/AudioWAV/1004_IWL_DIS_XX.wav', '/content/CREMA-D/AudioWAV/1044_IWW_HAP_XX.wav', '/content/CREMA-D/AudioWAV/1068_MTI_DIS_XX.wav', '/content/CREMA-D/AudioWAV/1002_IEO_ANG_HI.wav', '/content/CREMA-D/AudioWAV/1077_TSI_HAP_XX.wav', '/content/CREMA-D/AudioWAV/1080_TSI_NEU_XX.wav', '/content/CREMA-D/AudioWAV/1077_IWL_NEU_XX.wav', '/content/CREMA-D/AudioWAV/1046_IWW_HAP_XX.wav', '/content/CREMA-D/AudioWAV/1083_WSI_FEA_XX.wav', '/content/CREMA-D/AudioWAV/1051_IWW_FEA_XX.wav', '/content/CREMA-D/AudioWAV/1037_ITH_DIS_XX.wav', '/content/CREMA-D/AudioWAV/1026_IWL_SAD_XX.wav', '/content/CREMA-D/AudioWAV/1082_IWW_ANG_XX.wav', '/content/CREMA-D/AudioWAV/1025_TIE_HAP_XX.wav', '/content/CREMA-D/AudioWAV/1070_IWW_NEU_XX.wav', '/content/CREMA-D/AudioWAV/1007_WSI_HAP_XX.wav', '/content/CREMA-D/AudioWAV/1080_MTI_SAD_XX.wav', '/content/CREMA-D/AudioWAV/1025_TSI_ANG_XX.wav', '/content/CREMA-D/AudioWAV/1062_IOM_HAP_XX.wav', '/content/CREMA-D/AudioWAV/1014_DFA_SAD_XX.wav', '/content/CREMA-D/AudioWAV/1002_IEO_DIS_MD.wav', '/content/CREMA-D/AudioWAV/1069_DFA_FEA_XX.wav', '/content/CREMA-D/AudioWAV/1074_TAI_SAD_XX.wav', '/content/CREMA-D/AudioWAV/1005_WSI_HAP_XX.wav', '/content/CREMA-D/AudioWAV/1061_IWW_HAP_XX.wav', '/content/CREMA-D/AudioWAV/1058_ITS_ANG_XX.wav', '/content/CREMA-D/AudioWAV/1076_IWW_FEA_XX.wav', '/content/CREMA-D/AudioWAV/1087_ITS_FEA_XX.wav', '/content/CREMA-D/AudioWAV/1023_IOM_NEU_XX.wav', '/content/CREMA-D/AudioWAV/1008_DFA_SAD_XX.wav']\n",
            "Sampled video files: ['/content/CREMA-D/VideoFlash/1048_WSI_ANG_XX.flv', '/content/CREMA-D/VideoFlash/1063_IWL_ANG_XX.flv', '/content/CREMA-D/VideoFlash/1004_MTI_DIS_XX.flv', '/content/CREMA-D/VideoFlash/1033_ITH_FEA_XX.flv', '/content/CREMA-D/VideoFlash/1012_IWL_NEU_XX.flv', '/content/CREMA-D/VideoFlash/1047_TAI_SAD_XX.flv', '/content/CREMA-D/VideoFlash/1078_ITH_HAP_XX.flv', '/content/CREMA-D/VideoFlash/1084_TIE_SAD_XX.flv', '/content/CREMA-D/VideoFlash/1026_WSI_ANG_XX.flv', '/content/CREMA-D/VideoFlash/1040_ITS_DIS_XX.flv', '/content/CREMA-D/VideoFlash/1047_IEO_ANG_LO.flv', '/content/CREMA-D/VideoFlash/1058_WSI_HAP_XX.flv', '/content/CREMA-D/VideoFlash/1040_IEO_DIS_HI.flv', '/content/CREMA-D/VideoFlash/1049_IEO_FEA_LO.flv', '/content/CREMA-D/VideoFlash/1005_IOM_SAD_XX.flv', '/content/CREMA-D/VideoFlash/1077_TIE_SAD_XX.flv', '/content/CREMA-D/VideoFlash/1030_IEO_FEA_HI.flv', '/content/CREMA-D/VideoFlash/1051_IWW_HAP_XX.flv', '/content/CREMA-D/VideoFlash/1048_IOM_HAP_XX.flv', '/content/CREMA-D/VideoFlash/1053_IWW_NEU_XX.flv', '/content/CREMA-D/VideoFlash/1054_TSI_FEA_XX.flv', '/content/CREMA-D/VideoFlash/1080_IWL_HAP_XX.flv', '/content/CREMA-D/VideoFlash/1072_DFA_FEA_XX.flv', '/content/CREMA-D/VideoFlash/1018_TAI_FEA_XX.flv', '/content/CREMA-D/VideoFlash/1048_TIE_SAD_XX.flv', '/content/CREMA-D/VideoFlash/1049_WSI_HAP_XX.flv', '/content/CREMA-D/VideoFlash/1021_IWL_FEA_XX.flv', '/content/CREMA-D/VideoFlash/1072_ITS_SAD_XX.flv', '/content/CREMA-D/VideoFlash/1090_TAI_SAD_XX.flv', '/content/CREMA-D/VideoFlash/1059_IEO_NEU_XX.flv', '/content/CREMA-D/VideoFlash/1042_IEO_SAD_HI.flv', '/content/CREMA-D/VideoFlash/1043_IOM_NEU_XX.flv', '/content/CREMA-D/VideoFlash/1085_IOM_HAP_XX.flv', '/content/CREMA-D/VideoFlash/1006_DFA_ANG_XX.flv', '/content/CREMA-D/VideoFlash/1063_IOM_HAP_XX.flv', '/content/CREMA-D/VideoFlash/1018_WSI_NEU_XX.flv', '/content/CREMA-D/VideoFlash/1058_MTI_SAD_XX.flv', '/content/CREMA-D/VideoFlash/1024_TIE_SAD_XX.flv', '/content/CREMA-D/VideoFlash/1045_TIE_NEU_XX.flv', '/content/CREMA-D/VideoFlash/1041_IWL_DIS_XX.flv', '/content/CREMA-D/VideoFlash/1071_IEO_SAD_HI.flv', '/content/CREMA-D/VideoFlash/1059_ITS_HAP_XX.flv', '/content/CREMA-D/VideoFlash/1058_ITH_NEU_XX.flv', '/content/CREMA-D/VideoFlash/1071_ITS_SAD_XX.flv', '/content/CREMA-D/VideoFlash/1089_ITS_FEA_XX.flv', '/content/CREMA-D/VideoFlash/1053_ITS_HAP_XX.flv', '/content/CREMA-D/VideoFlash/1015_DFA_DIS_XX.flv', '/content/CREMA-D/VideoFlash/1017_ITS_SAD_XX.flv', '/content/CREMA-D/VideoFlash/1035_IEO_FEA_LO.flv', '/content/CREMA-D/VideoFlash/1082_TIE_HAP_XX.flv', '/content/CREMA-D/VideoFlash/1021_IOM_SAD_XX.flv', '/content/CREMA-D/VideoFlash/1029_ITH_FEA_XX.flv', '/content/CREMA-D/VideoFlash/1081_IWL_DIS_XX.flv', '/content/CREMA-D/VideoFlash/1066_IOM_ANG_XX.flv', '/content/CREMA-D/VideoFlash/1016_IWW_SAD_XX.flv', '/content/CREMA-D/VideoFlash/1022_IWW_HAP_XX.flv', '/content/CREMA-D/VideoFlash/1080_WSI_DIS_XX.flv', '/content/CREMA-D/VideoFlash/1056_TSI_ANG_XX.flv', '/content/CREMA-D/VideoFlash/1013_TSI_ANG_XX.flv', '/content/CREMA-D/VideoFlash/1040_DFA_DIS_XX.flv', '/content/CREMA-D/VideoFlash/1086_IWL_DIS_XX.flv', '/content/CREMA-D/VideoFlash/1090_IOM_DIS_XX.flv', '/content/CREMA-D/VideoFlash/1042_MTI_FEA_XX.flv', '/content/CREMA-D/VideoFlash/1072_IWW_NEU_XX.flv', '/content/CREMA-D/VideoFlash/1040_IOM_SAD_XX.flv', '/content/CREMA-D/VideoFlash/1028_TSI_FEA_XX.flv', '/content/CREMA-D/VideoFlash/1038_IEO_SAD_MD.flv', '/content/CREMA-D/VideoFlash/1089_IOM_ANG_XX.flv', '/content/CREMA-D/VideoFlash/1027_IWW_SAD_XX.flv', '/content/CREMA-D/VideoFlash/1066_TAI_FEA_XX.flv', '/content/CREMA-D/VideoFlash/1062_DFA_ANG_XX.flv', '/content/CREMA-D/VideoFlash/1074_IEO_ANG_LO.flv', '/content/CREMA-D/VideoFlash/1034_WSI_NEU_XX.flv', '/content/CREMA-D/VideoFlash/1059_TIE_HAP_XX.flv', '/content/CREMA-D/VideoFlash/1004_IEO_FEA_LO.flv', '/content/CREMA-D/VideoFlash/1065_MTI_FEA_XX.flv', '/content/CREMA-D/VideoFlash/1066_MTI_ANG_XX.flv', '/content/CREMA-D/VideoFlash/1084_IWW_ANG_XX.flv', '/content/CREMA-D/VideoFlash/1058_TSI_DIS_XX.flv', '/content/CREMA-D/VideoFlash/1080_IWL_ANG_XX.flv', '/content/CREMA-D/VideoFlash/1087_TIE_HAP_XX.flv', '/content/CREMA-D/VideoFlash/1027_IWL_NEU_XX.flv', '/content/CREMA-D/VideoFlash/1084_ITH_NEU_XX.flv', '/content/CREMA-D/VideoFlash/1049_IEO_FEA_MD.flv', '/content/CREMA-D/VideoFlash/1016_IWL_FEA_XX.flv', '/content/CREMA-D/VideoFlash/1059_ITH_ANG_XX.flv', '/content/CREMA-D/VideoFlash/1091_TAI_ANG_XX.flv', '/content/CREMA-D/VideoFlash/1081_WSI_FEA_XX.flv', '/content/CREMA-D/VideoFlash/1038_IOM_ANG_XX.flv', '/content/CREMA-D/VideoFlash/1022_ITH_FEA_XX.flv', '/content/CREMA-D/VideoFlash/1075_MTI_HAP_XX.flv', '/content/CREMA-D/VideoFlash/1015_IWW_HAP_XX.flv', '/content/CREMA-D/VideoFlash/1070_IOM_SAD_XX.flv', '/content/CREMA-D/VideoFlash/1032_MTI_DIS_XX.flv', '/content/CREMA-D/VideoFlash/1083_IWW_DIS_XX.flv', '/content/CREMA-D/VideoFlash/1030_WSI_FEA_XX.flv', '/content/CREMA-D/VideoFlash/1091_ITS_DIS_XX.flv', '/content/CREMA-D/VideoFlash/1059_TSI_SAD_XX.flv', '/content/CREMA-D/VideoFlash/1062_WSI_ANG_XX.flv', '/content/CREMA-D/VideoFlash/1023_TAI_DIS_XX.flv', '/content/CREMA-D/VideoFlash/1042_WSI_NEU_XX.flv', '/content/CREMA-D/VideoFlash/1049_ITS_SAD_XX.flv', '/content/CREMA-D/VideoFlash/1059_IEO_FEA_LO.flv', '/content/CREMA-D/VideoFlash/1009_TIE_HAP_XX.flv', '/content/CREMA-D/VideoFlash/1008_ITH_ANG_XX.flv', '/content/CREMA-D/VideoFlash/1050_WSI_SAD_XX.flv', '/content/CREMA-D/VideoFlash/1085_IWL_FEA_XX.flv', '/content/CREMA-D/VideoFlash/1075_ITH_NEU_XX.flv', '/content/CREMA-D/VideoFlash/1068_IEO_HAP_HI.flv', '/content/CREMA-D/VideoFlash/1043_TIE_SAD_XX.flv', '/content/CREMA-D/VideoFlash/1054_IEO_DIS_MD.flv', '/content/CREMA-D/VideoFlash/1004_IEO_SAD_LO.flv', '/content/CREMA-D/VideoFlash/1030_IWW_NEU_XX.flv', '/content/CREMA-D/VideoFlash/1031_IWW_DIS_XX.flv', '/content/CREMA-D/VideoFlash/1066_IEO_ANG_HI.flv', '/content/CREMA-D/VideoFlash/1001_ITS_HAP_XX.flv', '/content/CREMA-D/VideoFlash/1029_IOM_NEU_XX.flv', '/content/CREMA-D/VideoFlash/1078_ITH_FEA_XX.flv', '/content/CREMA-D/VideoFlash/1063_IOM_NEU_XX.flv', '/content/CREMA-D/VideoFlash/1013_IEO_SAD_MD.flv', '/content/CREMA-D/VideoFlash/1031_TSI_DIS_XX.flv', '/content/CREMA-D/VideoFlash/1021_ITS_HAP_XX.flv', '/content/CREMA-D/VideoFlash/1077_DFA_HAP_XX.flv', '/content/CREMA-D/VideoFlash/1030_IEO_HAP_HI.flv', '/content/CREMA-D/VideoFlash/1022_IOM_ANG_XX.flv', '/content/CREMA-D/VideoFlash/1081_TIE_DIS_XX.flv', '/content/CREMA-D/VideoFlash/1015_WSI_HAP_XX.flv', '/content/CREMA-D/VideoFlash/1037_IWL_DIS_XX.flv', '/content/CREMA-D/VideoFlash/1036_ITS_NEU_XX.flv', '/content/CREMA-D/VideoFlash/1080_ITH_FEA_XX.flv', '/content/CREMA-D/VideoFlash/1015_ITS_NEU_XX.flv', '/content/CREMA-D/VideoFlash/1047_TIE_DIS_XX.flv', '/content/CREMA-D/VideoFlash/1059_IEO_ANG_HI.flv', '/content/CREMA-D/VideoFlash/1038_DFA_FEA_XX.flv', '/content/CREMA-D/VideoFlash/1029_IEO_FEA_LO.flv', '/content/CREMA-D/VideoFlash/1050_ITH_ANG_XX.flv', '/content/CREMA-D/VideoFlash/1026_DFA_SAD_XX.flv', '/content/CREMA-D/VideoFlash/1071_WSI_DIS_XX.flv', '/content/CREMA-D/VideoFlash/1035_MTI_HAP_XX.flv', '/content/CREMA-D/VideoFlash/1019_IOM_ANG_XX.flv', '/content/CREMA-D/VideoFlash/1058_TSI_FEA_XX.flv', '/content/CREMA-D/VideoFlash/1033_TAI_FEA_XX.flv', '/content/CREMA-D/VideoFlash/1031_WSI_FEA_XX.flv', '/content/CREMA-D/VideoFlash/1009_WSI_ANG_XX.flv', '/content/CREMA-D/VideoFlash/1009_IEO_FEA_HI.flv', '/content/CREMA-D/VideoFlash/1065_IEO_SAD_HI.flv', '/content/CREMA-D/VideoFlash/1052_ITH_NEU_XX.flv', '/content/CREMA-D/VideoFlash/1031_MTI_DIS_XX.flv', '/content/CREMA-D/VideoFlash/1070_TAI_SAD_XX.flv', '/content/CREMA-D/VideoFlash/1030_WSI_HAP_XX.flv', '/content/CREMA-D/VideoFlash/1071_IWW_HAP_XX.flv', '/content/CREMA-D/VideoFlash/1018_IEO_HAP_MD.flv', '/content/CREMA-D/VideoFlash/1078_IEO_FEA_MD.flv', '/content/CREMA-D/VideoFlash/1023_ITS_SAD_XX.flv', '/content/CREMA-D/VideoFlash/1085_TIE_ANG_XX.flv', '/content/CREMA-D/VideoFlash/1017_TSI_SAD_XX.flv', '/content/CREMA-D/VideoFlash/1091_WSI_FEA_XX.flv', '/content/CREMA-D/VideoFlash/1010_IEO_DIS_MD.flv', '/content/CREMA-D/VideoFlash/1009_IWW_DIS_XX.flv', '/content/CREMA-D/VideoFlash/1073_IEO_FEA_HI.flv', '/content/CREMA-D/VideoFlash/1037_ITH_FEA_XX.flv', '/content/CREMA-D/VideoFlash/1027_WSI_FEA_XX.flv', '/content/CREMA-D/VideoFlash/1046_TSI_HAP_XX.flv', '/content/CREMA-D/VideoFlash/1066_TIE_NEU_XX.flv', '/content/CREMA-D/VideoFlash/1042_IEO_HAP_HI.flv', '/content/CREMA-D/VideoFlash/1001_TIE_NEU_XX.flv', '/content/CREMA-D/VideoFlash/1042_IEO_HAP_MD.flv', '/content/CREMA-D/VideoFlash/1006_TIE_SAD_XX.flv', '/content/CREMA-D/VideoFlash/1010_IEO_FEA_MD.flv', '/content/CREMA-D/VideoFlash/1030_IEO_HAP_MD.flv', '/content/CREMA-D/VideoFlash/1041_TSI_NEU_XX.flv', '/content/CREMA-D/VideoFlash/1035_TAI_FEA_XX.flv', '/content/CREMA-D/VideoFlash/1084_IWW_HAP_XX.flv', '/content/CREMA-D/VideoFlash/1090_IWW_ANG_XX.flv', '/content/CREMA-D/VideoFlash/1046_DFA_FEA_XX.flv', '/content/CREMA-D/VideoFlash/1075_IWL_NEU_XX.flv', '/content/CREMA-D/VideoFlash/1030_TAI_FEA_XX.flv', '/content/CREMA-D/VideoFlash/1005_IEO_ANG_LO.flv', '/content/CREMA-D/VideoFlash/1085_TAI_ANG_XX.flv', '/content/CREMA-D/VideoFlash/1067_ITH_FEA_XX.flv', '/content/CREMA-D/VideoFlash/1077_MTI_SAD_XX.flv', '/content/CREMA-D/VideoFlash/1084_TSI_DIS_XX.flv', '/content/CREMA-D/VideoFlash/1009_TSI_FEA_XX.flv', '/content/CREMA-D/VideoFlash/1048_IWW_HAP_XX.flv', '/content/CREMA-D/VideoFlash/1073_TSI_ANG_XX.flv', '/content/CREMA-D/VideoFlash/1025_IEO_SAD_MD.flv', '/content/CREMA-D/VideoFlash/1081_IOM_FEA_XX.flv', '/content/CREMA-D/VideoFlash/1001_IWW_ANG_XX.flv', '/content/CREMA-D/VideoFlash/1074_IOM_HAP_XX.flv', '/content/CREMA-D/VideoFlash/1030_IEO_DIS_MD.flv', '/content/CREMA-D/VideoFlash/1077_IEO_SAD_HI.flv', '/content/CREMA-D/VideoFlash/1010_IWL_DIS_XX.flv', '/content/CREMA-D/VideoFlash/1080_IOM_ANG_XX.flv', '/content/CREMA-D/VideoFlash/1030_IOM_DIS_XX.flv', '/content/CREMA-D/VideoFlash/1035_MTI_NEU_XX.flv', '/content/CREMA-D/VideoFlash/1082_IEO_FEA_LO.flv', '/content/CREMA-D/VideoFlash/1069_TSI_DIS_XX.flv', '/content/CREMA-D/VideoFlash/1002_IOM_SAD_XX.flv', '/content/CREMA-D/VideoFlash/1042_IEO_FEA_MD.flv', '/content/CREMA-D/VideoFlash/1053_IEO_HAP_MD.flv', '/content/CREMA-D/VideoFlash/1050_IEO_SAD_HI.flv', '/content/CREMA-D/VideoFlash/1017_IEO_HAP_LO.flv', '/content/CREMA-D/VideoFlash/1015_IWL_DIS_XX.flv', '/content/CREMA-D/VideoFlash/1090_TAI_HAP_XX.flv', '/content/CREMA-D/VideoFlash/1015_DFA_NEU_XX.flv', '/content/CREMA-D/VideoFlash/1065_IEO_ANG_MD.flv', '/content/CREMA-D/VideoFlash/1054_TSI_SAD_XX.flv', '/content/CREMA-D/VideoFlash/1075_WSI_NEU_XX.flv', '/content/CREMA-D/VideoFlash/1086_TSI_SAD_XX.flv', '/content/CREMA-D/VideoFlash/1044_TIE_SAD_XX.flv', '/content/CREMA-D/VideoFlash/1053_IOM_FEA_XX.flv', '/content/CREMA-D/VideoFlash/1024_TAI_SAD_XX.flv', '/content/CREMA-D/VideoFlash/1081_DFA_SAD_XX.flv', '/content/CREMA-D/VideoFlash/1034_TSI_ANG_XX.flv', '/content/CREMA-D/VideoFlash/1079_IEO_NEU_XX.flv', '/content/CREMA-D/VideoFlash/1026_IWW_SAD_XX.flv', '/content/CREMA-D/VideoFlash/1022_IEO_SAD_HI.flv', '/content/CREMA-D/VideoFlash/1046_DFA_HAP_XX.flv', '/content/CREMA-D/VideoFlash/1060_IEO_FEA_MD.flv', '/content/CREMA-D/VideoFlash/1016_WSI_ANG_XX.flv', '/content/CREMA-D/VideoFlash/1029_TIE_FEA_XX.flv', '/content/CREMA-D/VideoFlash/1022_WSI_HAP_XX.flv', '/content/CREMA-D/VideoFlash/1064_ITS_ANG_XX.flv', '/content/CREMA-D/VideoFlash/1080_ITH_NEU_XX.flv', '/content/CREMA-D/VideoFlash/1078_TAI_HAP_XX.flv', '/content/CREMA-D/VideoFlash/1041_MTI_NEU_XX.flv', '/content/CREMA-D/VideoFlash/1058_IWW_DIS_XX.flv', '/content/CREMA-D/VideoFlash/1064_DFA_SAD_XX.flv', '/content/CREMA-D/VideoFlash/1086_IEO_SAD_LO.flv', '/content/CREMA-D/VideoFlash/1009_TSI_HAP_XX.flv', '/content/CREMA-D/VideoFlash/1056_TIE_FEA_XX.flv', '/content/CREMA-D/VideoFlash/1068_IOM_DIS_XX.flv', '/content/CREMA-D/VideoFlash/1051_IEO_HAP_LO.flv', '/content/CREMA-D/VideoFlash/1004_IOM_DIS_XX.flv', '/content/CREMA-D/VideoFlash/1053_WSI_NEU_XX.flv', '/content/CREMA-D/VideoFlash/1023_ITS_NEU_XX.flv', '/content/CREMA-D/VideoFlash/1079_IEO_FEA_LO.flv', '/content/CREMA-D/VideoFlash/1067_ITS_ANG_XX.flv', '/content/CREMA-D/VideoFlash/1014_MTI_DIS_XX.flv', '/content/CREMA-D/VideoFlash/1089_TAI_SAD_XX.flv', '/content/CREMA-D/VideoFlash/1021_IOM_DIS_XX.flv', '/content/CREMA-D/VideoFlash/1069_IWW_NEU_XX.flv', '/content/CREMA-D/VideoFlash/1018_TAI_HAP_XX.flv', '/content/CREMA-D/VideoFlash/1017_MTI_HAP_XX.flv', '/content/CREMA-D/VideoFlash/1065_IOM_ANG_XX.flv', '/content/CREMA-D/VideoFlash/1036_DFA_FEA_XX.flv', '/content/CREMA-D/VideoFlash/1064_WSI_HAP_XX.flv', '/content/CREMA-D/VideoFlash/1038_IEO_FEA_MD.flv', '/content/CREMA-D/VideoFlash/1017_WSI_NEU_XX.flv', '/content/CREMA-D/VideoFlash/1064_ITS_SAD_XX.flv', '/content/CREMA-D/VideoFlash/1078_IEO_DIS_HI.flv', '/content/CREMA-D/VideoFlash/1080_IOM_NEU_XX.flv', '/content/CREMA-D/VideoFlash/1015_IOM_HAP_XX.flv', '/content/CREMA-D/VideoFlash/1080_ITS_FEA_XX.flv', '/content/CREMA-D/VideoFlash/1073_TIE_FEA_XX.flv', '/content/CREMA-D/VideoFlash/1001_ITS_NEU_XX.flv', '/content/CREMA-D/VideoFlash/1015_IEO_DIS_LO.flv', '/content/CREMA-D/VideoFlash/1001_IEO_SAD_HI.flv', '/content/CREMA-D/VideoFlash/1051_IWW_SAD_XX.flv', '/content/CREMA-D/VideoFlash/1024_IEO_ANG_MD.flv', '/content/CREMA-D/VideoFlash/1061_DFA_NEU_XX.flv', '/content/CREMA-D/VideoFlash/1078_MTI_ANG_XX.flv', '/content/CREMA-D/VideoFlash/1087_ITH_FEA_XX.flv', '/content/CREMA-D/VideoFlash/1022_IWL_SAD_XX.flv', '/content/CREMA-D/VideoFlash/1068_ITH_FEA_XX.flv', '/content/CREMA-D/VideoFlash/1041_IOM_ANG_XX.flv', '/content/CREMA-D/VideoFlash/1012_TIE_ANG_XX.flv', '/content/CREMA-D/VideoFlash/1059_DFA_NEU_XX.flv', '/content/CREMA-D/VideoFlash/1057_TSI_FEA_XX.flv', '/content/CREMA-D/VideoFlash/1079_TSI_FEA_XX.flv', '/content/CREMA-D/VideoFlash/1044_WSI_HAP_XX.flv', '/content/CREMA-D/VideoFlash/1041_IOM_NEU_XX.flv', '/content/CREMA-D/VideoFlash/1065_TIE_DIS_XX.flv', '/content/CREMA-D/VideoFlash/1010_WSI_FEA_XX.flv', '/content/CREMA-D/VideoFlash/1072_ITH_ANG_XX.flv', '/content/CREMA-D/VideoFlash/1034_TIE_SAD_XX.flv', '/content/CREMA-D/VideoFlash/1081_TIE_HAP_XX.flv', '/content/CREMA-D/VideoFlash/1053_IEO_NEU_XX.flv', '/content/CREMA-D/VideoFlash/1046_TAI_SAD_XX.flv', '/content/CREMA-D/VideoFlash/1081_ITS_SAD_XX.flv', '/content/CREMA-D/VideoFlash/1069_TIE_SAD_XX.flv', '/content/CREMA-D/VideoFlash/1088_IEO_ANG_MD.flv', '/content/CREMA-D/VideoFlash/1081_TSI_DIS_XX.flv', '/content/CREMA-D/VideoFlash/1071_TSI_DIS_XX.flv', '/content/CREMA-D/VideoFlash/1084_WSI_ANG_XX.flv', '/content/CREMA-D/VideoFlash/1030_IWL_FEA_XX.flv', '/content/CREMA-D/VideoFlash/1008_IOM_SAD_XX.flv', '/content/CREMA-D/VideoFlash/1004_IWW_SAD_XX.flv', '/content/CREMA-D/VideoFlash/1023_IEO_HAP_HI.flv', '/content/CREMA-D/VideoFlash/1067_TAI_FEA_XX.flv', '/content/CREMA-D/VideoFlash/1002_IWL_NEU_XX.flv', '/content/CREMA-D/VideoFlash/1040_IWL_NEU_XX.flv', '/content/CREMA-D/VideoFlash/1013_DFA_DIS_XX.flv', '/content/CREMA-D/VideoFlash/1057_TIE_ANG_XX.flv', '/content/CREMA-D/VideoFlash/1081_TAI_NEU_XX.flv', '/content/CREMA-D/VideoFlash/1062_ITH_HAP_XX.flv', '/content/CREMA-D/VideoFlash/1057_ITS_SAD_XX.flv', '/content/CREMA-D/VideoFlash/1020_IOM_FEA_XX.flv', '/content/CREMA-D/VideoFlash/1002_TSI_NEU_XX.flv', '/content/CREMA-D/VideoFlash/1051_WSI_ANG_XX.flv', '/content/CREMA-D/VideoFlash/1040_TAI_SAD_XX.flv', '/content/CREMA-D/VideoFlash/1008_MTI_DIS_XX.flv', '/content/CREMA-D/VideoFlash/1036_IWL_FEA_XX.flv', '/content/CREMA-D/VideoFlash/1018_TSI_ANG_XX.flv', '/content/CREMA-D/VideoFlash/1008_ITH_NEU_XX.flv', '/content/CREMA-D/VideoFlash/1060_TSI_FEA_XX.flv', '/content/CREMA-D/VideoFlash/1053_IEO_HAP_LO.flv', '/content/CREMA-D/VideoFlash/1090_TAI_FEA_XX.flv', '/content/CREMA-D/VideoFlash/1031_TSI_HAP_XX.flv', '/content/CREMA-D/VideoFlash/1079_DFA_FEA_XX.flv', '/content/CREMA-D/VideoFlash/1010_TIE_HAP_XX.flv', '/content/CREMA-D/VideoFlash/1080_TAI_DIS_XX.flv', '/content/CREMA-D/VideoFlash/1080_IEO_FEA_LO.flv', '/content/CREMA-D/VideoFlash/1038_MTI_HAP_XX.flv', '/content/CREMA-D/VideoFlash/1036_DFA_DIS_XX.flv', '/content/CREMA-D/VideoFlash/1086_IOM_DIS_XX.flv', '/content/CREMA-D/VideoFlash/1044_ITS_SAD_XX.flv', '/content/CREMA-D/VideoFlash/1069_IWW_DIS_XX.flv', '/content/CREMA-D/VideoFlash/1065_TIE_NEU_XX.flv', '/content/CREMA-D/VideoFlash/1089_IWL_FEA_XX.flv', '/content/CREMA-D/VideoFlash/1004_IWW_FEA_XX.flv', '/content/CREMA-D/VideoFlash/1026_IEO_HAP_LO.flv', '/content/CREMA-D/VideoFlash/1083_TAI_SAD_XX.flv', '/content/CREMA-D/VideoFlash/1042_IEO_ANG_LO.flv', '/content/CREMA-D/VideoFlash/1022_TAI_ANG_XX.flv', '/content/CREMA-D/VideoFlash/1046_IWL_SAD_XX.flv', '/content/CREMA-D/VideoFlash/1040_IWW_HAP_XX.flv', '/content/CREMA-D/VideoFlash/1040_ITS_ANG_XX.flv', '/content/CREMA-D/VideoFlash/1024_IWW_NEU_XX.flv', '/content/CREMA-D/VideoFlash/1042_TAI_FEA_XX.flv', '/content/CREMA-D/VideoFlash/1053_DFA_HAP_XX.flv', '/content/CREMA-D/VideoFlash/1015_TAI_SAD_XX.flv', '/content/CREMA-D/VideoFlash/1027_IEO_HAP_HI.flv', '/content/CREMA-D/VideoFlash/1029_TAI_ANG_XX.flv', '/content/CREMA-D/VideoFlash/1024_ITS_NEU_XX.flv', '/content/CREMA-D/VideoFlash/1082_IEO_HAP_HI.flv', '/content/CREMA-D/VideoFlash/1045_IEO_HAP_MD.flv', '/content/CREMA-D/VideoFlash/1003_IWW_DIS_XX.flv', '/content/CREMA-D/VideoFlash/1071_IWL_HAP_XX.flv', '/content/CREMA-D/VideoFlash/1065_TIE_ANG_XX.flv', '/content/CREMA-D/VideoFlash/1068_DFA_SAD_XX.flv', '/content/CREMA-D/VideoFlash/1076_ITS_SAD_XX.flv', '/content/CREMA-D/VideoFlash/1004_IWL_DIS_XX.flv', '/content/CREMA-D/VideoFlash/1044_IWW_HAP_XX.flv', '/content/CREMA-D/VideoFlash/1068_MTI_DIS_XX.flv', '/content/CREMA-D/VideoFlash/1002_IEO_ANG_HI.flv', '/content/CREMA-D/VideoFlash/1077_TSI_HAP_XX.flv', '/content/CREMA-D/VideoFlash/1080_TSI_NEU_XX.flv', '/content/CREMA-D/VideoFlash/1077_IWL_NEU_XX.flv', '/content/CREMA-D/VideoFlash/1046_IWW_HAP_XX.flv', '/content/CREMA-D/VideoFlash/1083_WSI_FEA_XX.flv', '/content/CREMA-D/VideoFlash/1051_IWW_FEA_XX.flv', '/content/CREMA-D/VideoFlash/1037_ITH_DIS_XX.flv', '/content/CREMA-D/VideoFlash/1026_IWL_SAD_XX.flv', '/content/CREMA-D/VideoFlash/1082_IWW_ANG_XX.flv', '/content/CREMA-D/VideoFlash/1025_TIE_HAP_XX.flv', '/content/CREMA-D/VideoFlash/1070_IWW_NEU_XX.flv', '/content/CREMA-D/VideoFlash/1007_WSI_HAP_XX.flv', '/content/CREMA-D/VideoFlash/1080_MTI_SAD_XX.flv', '/content/CREMA-D/VideoFlash/1025_TSI_ANG_XX.flv', '/content/CREMA-D/VideoFlash/1062_IOM_HAP_XX.flv', '/content/CREMA-D/VideoFlash/1014_DFA_SAD_XX.flv', '/content/CREMA-D/VideoFlash/1002_IEO_DIS_MD.flv', '/content/CREMA-D/VideoFlash/1069_DFA_FEA_XX.flv', '/content/CREMA-D/VideoFlash/1074_TAI_SAD_XX.flv', '/content/CREMA-D/VideoFlash/1005_WSI_HAP_XX.flv', '/content/CREMA-D/VideoFlash/1061_IWW_HAP_XX.flv', '/content/CREMA-D/VideoFlash/1058_ITS_ANG_XX.flv', '/content/CREMA-D/VideoFlash/1076_IWW_FEA_XX.flv', '/content/CREMA-D/VideoFlash/1087_ITS_FEA_XX.flv', '/content/CREMA-D/VideoFlash/1023_IOM_NEU_XX.flv', '/content/CREMA-D/VideoFlash/1008_DFA_SAD_XX.flv']\n"
          ]
        },
        {
          "ename": "FileNotFoundError",
          "evalue": "[Errno 2] No such file or directory: '/content/CREMA-D/VideoFlash/1063_IWL_ANG_XX.flv'",
          "output_type": "error",
          "traceback": [
            "\u001b[0;31m---------------------------------------------------------------------------\u001b[0m",
            "\u001b[0;31mFileNotFoundError\u001b[0m                         Traceback (most recent call last)",
            "\u001b[0;32m<ipython-input-34-117392375e29>\u001b[0m in \u001b[0;36m<cell line: 0>\u001b[0;34m()\u001b[0m\n\u001b[1;32m     16\u001b[0m \u001b[0mtotal_video_size\u001b[0m \u001b[0;34m=\u001b[0m \u001b[0;36m0\u001b[0m\u001b[0;34m\u001b[0m\u001b[0;34m\u001b[0m\u001b[0m\n\u001b[1;32m     17\u001b[0m \u001b[0;32mfor\u001b[0m \u001b[0mvideo_path\u001b[0m \u001b[0;32min\u001b[0m \u001b[0msampled_video_paths\u001b[0m\u001b[0;34m:\u001b[0m\u001b[0;34m\u001b[0m\u001b[0;34m\u001b[0m\u001b[0m\n\u001b[0;32m---> 18\u001b[0;31m     \u001b[0mtotal_video_size\u001b[0m \u001b[0;34m+=\u001b[0m \u001b[0mget_file_size\u001b[0m\u001b[0;34m(\u001b[0m\u001b[0mvideo_path\u001b[0m\u001b[0;34m)\u001b[0m\u001b[0;34m\u001b[0m\u001b[0;34m\u001b[0m\u001b[0m\n\u001b[0m\u001b[1;32m     19\u001b[0m \u001b[0;34m\u001b[0m\u001b[0m\n\u001b[1;32m     20\u001b[0m \u001b[0mprint\u001b[0m\u001b[0;34m(\u001b[0m\u001b[0;34mf\"Total audio size: {total_audio_size} bytes\"\u001b[0m\u001b[0;34m)\u001b[0m\u001b[0;34m\u001b[0m\u001b[0;34m\u001b[0m\u001b[0m\n",
            "\u001b[0;32m<ipython-input-30-64a3e997b78e>\u001b[0m in \u001b[0;36mget_file_size\u001b[0;34m(file_path)\u001b[0m\n\u001b[1;32m      1\u001b[0m \u001b[0;32mdef\u001b[0m \u001b[0mget_file_size\u001b[0m\u001b[0;34m(\u001b[0m\u001b[0mfile_path\u001b[0m\u001b[0;34m)\u001b[0m\u001b[0;34m:\u001b[0m\u001b[0;34m\u001b[0m\u001b[0;34m\u001b[0m\u001b[0m\n\u001b[0;32m----> 2\u001b[0;31m     \u001b[0;32mreturn\u001b[0m \u001b[0mos\u001b[0m\u001b[0;34m.\u001b[0m\u001b[0mpath\u001b[0m\u001b[0;34m.\u001b[0m\u001b[0mgetsize\u001b[0m\u001b[0;34m(\u001b[0m\u001b[0mfile_path\u001b[0m\u001b[0;34m)\u001b[0m\u001b[0;34m\u001b[0m\u001b[0;34m\u001b[0m\u001b[0m\n\u001b[0m",
            "\u001b[0;32m/usr/lib/python3.11/genericpath.py\u001b[0m in \u001b[0;36mgetsize\u001b[0;34m(filename)\u001b[0m\n",
            "\u001b[0;31mFileNotFoundError\u001b[0m: [Errno 2] No such file or directory: '/content/CREMA-D/VideoFlash/1063_IWL_ANG_XX.flv'"
          ]
        }
      ],
      "source": [
        "!git clone https://github.com/CheyneyComputerScience/CREMA-D.git\n",
        "\n",
        "video_dir = os.path.join(os.getcwd(), \"CREMA-D/VideoFlash\")\n",
        "\n",
        "sampled_audio_paths, sampled_video_paths = sample_of_data(audio_dir, video_dir, 0.05)\n",
        "\n",
        "print(\"Sampled video files:\", sampled_video_paths)\n",
        "\n",
        "total_video_size = 0\n",
        "for video_path in sampled_video_paths:\n",
        "    total_video_size += get_file_size(video_path)\n",
        "\n",
        "print(f\"Total video size: {total_video_size} bytes\")\n",
        "\n",
        "print(f\"Total video size: {format_size(total_video_size)}\")"
      ]
    },
    {
      "cell_type": "code",
      "execution_count": null,
      "metadata": {
        "colab": {
          "base_uri": "https://localhost:8080/",
          "height": 211
        },
        "id": "a9hzUQVfaeD0",
        "outputId": "4d1abd15-ed0d-4607-ed02-365d0ed13f21"
      },
      "outputs": [
        {
          "ename": "FileNotFoundError",
          "evalue": "[Errno 2] No such file or directory: '/content/CREMA-D/VideoFlash'",
          "output_type": "error",
          "traceback": [
            "\u001b[0;31m---------------------------------------------------------------------------\u001b[0m",
            "\u001b[0;31mFileNotFoundError\u001b[0m                         Traceback (most recent call last)",
            "\u001b[0;32m<ipython-input-1-5b67a8c929a9>\u001b[0m in \u001b[0;36m<cell line: 0>\u001b[0;34m()\u001b[0m\n\u001b[1;32m      6\u001b[0m \u001b[0mos\u001b[0m\u001b[0;34m.\u001b[0m\u001b[0mmakedirs\u001b[0m\u001b[0;34m(\u001b[0m\u001b[0moutput_dir\u001b[0m\u001b[0;34m,\u001b[0m \u001b[0mexist_ok\u001b[0m\u001b[0;34m=\u001b[0m\u001b[0;32mTrue\u001b[0m\u001b[0;34m)\u001b[0m\u001b[0;34m\u001b[0m\u001b[0;34m\u001b[0m\u001b[0m\n\u001b[1;32m      7\u001b[0m \u001b[0;34m\u001b[0m\u001b[0m\n\u001b[0;32m----> 8\u001b[0;31m \u001b[0;32mfor\u001b[0m \u001b[0mfilename\u001b[0m \u001b[0;32min\u001b[0m \u001b[0mos\u001b[0m\u001b[0;34m.\u001b[0m\u001b[0mlistdir\u001b[0m\u001b[0;34m(\u001b[0m\u001b[0mvideo_dir\u001b[0m\u001b[0;34m)\u001b[0m\u001b[0;34m:\u001b[0m\u001b[0;34m\u001b[0m\u001b[0;34m\u001b[0m\u001b[0m\n\u001b[0m\u001b[1;32m      9\u001b[0m     \u001b[0;32mif\u001b[0m \u001b[0mfilename\u001b[0m\u001b[0;34m.\u001b[0m\u001b[0mendswith\u001b[0m\u001b[0;34m(\u001b[0m\u001b[0;34m\".flv\"\u001b[0m\u001b[0;34m)\u001b[0m\u001b[0;34m:\u001b[0m\u001b[0;34m\u001b[0m\u001b[0;34m\u001b[0m\u001b[0m\n\u001b[1;32m     10\u001b[0m         \u001b[0minput_path\u001b[0m \u001b[0;34m=\u001b[0m \u001b[0mos\u001b[0m\u001b[0;34m.\u001b[0m\u001b[0mpath\u001b[0m\u001b[0;34m.\u001b[0m\u001b[0mjoin\u001b[0m\u001b[0;34m(\u001b[0m\u001b[0mvideo_dir\u001b[0m\u001b[0;34m,\u001b[0m \u001b[0mfilename\u001b[0m\u001b[0;34m)\u001b[0m\u001b[0;34m\u001b[0m\u001b[0;34m\u001b[0m\u001b[0m\n",
            "\u001b[0;31mFileNotFoundError\u001b[0m: [Errno 2] No such file or directory: '/content/CREMA-D/VideoFlash'"
          ]
        }
      ],
      "source": [
        "import os\n",
        "import subprocess\n",
        "\n",
        "video_dir = os.path.expanduser(\"/content/CREMA-D/VideoFlash\")\n",
        "output_dir = os.path.expanduser(\"/content/CREMA-D/VideoMP4\")\n",
        "os.makedirs(output_dir, exist_ok=True)\n",
        "\n",
        "for filename in os.listdir(video_dir):\n",
        "    if filename.endswith(\".flv\"):\n",
        "        input_path = os.path.join(video_dir, filename)\n",
        "        output_path = os.path.join(output_dir, filename[:-4] + \".mp4\")\n",
        "        subprocess.run([\"ffmpeg\", \"-i\", input_path, output_path])\n",
        "        print(f\"Converted {filename} to {filename[:-4] + '.mp4'}\")"
      ]
    },
    {
      "cell_type": "code",
      "execution_count": null,
      "metadata": {
        "id": "IpUo4M_qblxA"
      },
      "outputs": [],
      "source": [
        "import librosa\n",
        "import numpy as np\n",
        "\n",
        "def normalize_audio(audio_path):\n",
        "\n",
        "    y, sr = librosa.load(audio_path, sr=None)\n",
        "\n",
        "    y_normalized = librosa.util.normalize(y)\n",
        "\n",
        "    return y_normalized, sr"
      ]
    },
    {
      "cell_type": "code",
      "execution_count": null,
      "metadata": {
        "id": "2D9pUYspeoRQ"
      },
      "outputs": [],
      "source": [
        "def resize_frames(video_path, output_size=(64 , 64)):\n",
        "    cap = cv2.VideoCapture(video_path)\n",
        "    resized_frames = []\n",
        "\n",
        "    while True:\n",
        "        ret, frame = cap.read()\n",
        "        if not ret:\n",
        "            break\n",
        "\n",
        "        resized_frame = cv2.resize(frame, output_size)\n",
        "        resized_frames.append(resized_frame)\n",
        "\n",
        "    cap.release()\n",
        "    return resized_frames"
      ]
    },
    {
      "cell_type": "markdown",
      "metadata": {
        "id": "7FlhzSXoesh5"
      },
      "source": [
        "Pose Estimation"
      ]
    },
    {
      "cell_type": "code",
      "execution_count": null,
      "metadata": {
        "id": "LUYNlf8Xeq8Q"
      },
      "outputs": [],
      "source": [
        "mp_pose = mp.solutions.pose\n",
        "pose = mp_pose.Pose()\n",
        "\n",
        "def pose_estimation(frames):\n",
        "\n",
        "    pose_landmarks = []\n",
        "    for frame in frames:\n",
        "        frame_rgb = cv2.cvtColor(frame, cv2.COLOR_BGR2RGB)\n",
        "        results = pose.process(frame_rgb)\n",
        "        if results.pose_landmarks:\n",
        "            pose_landmarks.append(results.pose_landmarks)\n",
        "    return pose_landmarks"
      ]
    },
    {
      "cell_type": "markdown",
      "metadata": {
        "id": "bRVxF1Dee4_Q"
      },
      "source": [
        "Audio EDA"
      ]
    },
    {
      "cell_type": "code",
      "execution_count": null,
      "metadata": {
        "id": "JiRPprbae1tv"
      },
      "outputs": [],
      "source": [
        "def plot_waveform(audio_path):\n",
        "    y, sr = librosa.load(audio_path, sr=None)\n",
        "    plt.figure(figsize=(10, 4))\n",
        "    plt.plot(y)\n",
        "    plt.title('Waveform')\n",
        "    plt.xlabel('Time')\n",
        "    plt.ylabel('Amplitude')\n",
        "    plt.show()"
      ]
    },
    {
      "cell_type": "code",
      "execution_count": null,
      "metadata": {
        "id": "Qwl-gGj_UVMI"
      },
      "outputs": [],
      "source": [
        "def plot_spectrogram(audio_path):\n",
        "    y, sr = librosa.load(audio_path, sr=None)\n",
        "    S = librosa.stft(y)\n",
        "    librosa.display.specshow(librosa.amplitude_to_db(S, ref=np.max), sr=sr, x_axis='time', y_axis='log')\n",
        "    plt.colorbar(format='%+2.0f dB')\n",
        "    plt.title('Spectrogram')\n",
        "    plt.show()"
      ]
    },
    {
      "cell_type": "code",
      "execution_count": null,
      "metadata": {
        "colab": {
          "base_uri": "https://localhost:8080/",
          "height": 141
        },
        "id": "Eu859neSI5wK",
        "outputId": "4b19fd4c-2da2-46ef-b4ab-962e8be8faf0"
      },
      "outputs": [
        {
          "ename": "IndexError",
          "evalue": "list index out of range",
          "output_type": "error",
          "traceback": [
            "\u001b[0;31m---------------------------------------------------------------------------\u001b[0m",
            "\u001b[0;31mIndexError\u001b[0m                                Traceback (most recent call last)",
            "\u001b[0;32m<ipython-input-17-111f3ce48670>\u001b[0m in \u001b[0;36m<cell line: 0>\u001b[0;34m()\u001b[0m\n\u001b[0;32m----> 1\u001b[0;31m \u001b[0mplot_waveform\u001b[0m\u001b[0;34m(\u001b[0m\u001b[0msampled_audio_paths\u001b[0m\u001b[0;34m[\u001b[0m\u001b[0;36m0\u001b[0m\u001b[0;34m]\u001b[0m\u001b[0;34m)\u001b[0m\u001b[0;34m\u001b[0m\u001b[0;34m\u001b[0m\u001b[0m\n\u001b[0m",
            "\u001b[0;31mIndexError\u001b[0m: list index out of range"
          ]
        }
      ],
      "source": [
        "plot_waveform(sampled_audio_paths[0])"
      ]
    },
    {
      "cell_type": "markdown",
      "metadata": {
        "id": "_D1M_Y4ie7Ii"
      },
      "source": [
        "Video EDA"
      ]
    },
    {
      "cell_type": "code",
      "execution_count": null,
      "metadata": {
        "id": "-hcECed9e9vE"
      },
      "outputs": [],
      "source": [
        "def extract_frames(video_path):\n",
        "    cap = cv2.VideoCapture(video_path)\n",
        "    frames = []\n",
        "    while True:\n",
        "        ret, frame = cap.read()\n",
        "        if not ret:\n",
        "            break\n",
        "        frames.append(frame)\n",
        "    cap.release()\n",
        "    return frames"
      ]
    },
    {
      "cell_type": "code",
      "execution_count": null,
      "metadata": {
        "id": "bAhYXdFmbYgq"
      },
      "outputs": [],
      "source": [
        "def analyze_frames(frames):\n",
        "\n",
        "    for frame in frames[:5]:\n",
        "        hist = cv2.calcHist([frame], [0], None, [256], [0, 256])\n",
        "        plt.plot(hist)\n",
        "        plt.title('Pixel Distribution')\n",
        "        plt.show()"
      ]
    },
    {
      "cell_type": "code",
      "execution_count": null,
      "metadata": {
        "id": "ZO8bWkOpI768"
      },
      "outputs": [],
      "source": [
        "video_frames = extract_frames(sampled_video_paths[0])\n",
        "analyze_frames(video_frames)"
      ]
    },
    {
      "cell_type": "markdown",
      "metadata": {
        "id": "-bSrZn7WfC6I"
      },
      "source": [
        "Feature Engineering"
      ]
    },
    {
      "cell_type": "markdown",
      "metadata": {
        "id": "HcAt8Cw3fmnW"
      },
      "source": [
        "Aduio Feature Engineering"
      ]
    },
    {
      "cell_type": "code",
      "execution_count": null,
      "metadata": {
        "id": "Zlo_lCZ4flQA"
      },
      "outputs": [],
      "source": [
        "def Extract_Audio_Features(audio_path):\n",
        "    y, sr = librosa.load(audio_path, sr=None)\n",
        "    mfcc = librosa.feature.mfcc(y=y, sr=sr, n_mfcc=13)\n",
        "    chroma = librosa.feature.chroma_stft(y=y, sr=sr)\n",
        "    return mfcc, chroma"
      ]
    },
    {
      "cell_type": "markdown",
      "metadata": {
        "id": "xvkS5cU7fr_j"
      },
      "source": [
        "Video Feature Engineering"
      ]
    },
    {
      "cell_type": "code",
      "execution_count": null,
      "metadata": {
        "id": "pYYU69idfv7F"
      },
      "outputs": [],
      "source": [
        "def Convert_Pose_To_Features(pose_landmarks):\n",
        "    features = []\n",
        "    for landmark_set in pose_landmarks:\n",
        "        if landmark_set:\n",
        "            features.append([landmark.x for landmark in landmark_set.landmark])\n",
        "            features.append([landmark.y for landmark in landmark_set.landmark])\n",
        "    return np.array(features)"
      ]
    },
    {
      "cell_type": "code",
      "execution_count": null,
      "metadata": {
        "id": "3UHBQ0CsJEOM"
      },
      "outputs": [],
      "source": [
        "audio_features_list = []\n",
        "video_features_list = []\n",
        "labels = []\n",
        "\n",
        "for audio_path, video_path in zip(sampled_audio_paths, sampled_video_paths):\n",
        "    # Audio normalization\n",
        "    audio_normalized, sr = normalize_audio(audio_path)\n",
        "\n",
        "    # Audio features\n",
        "    audio_features = Extract_Audio_Features(audio_path)\n",
        "    audio_features_list.append(audio_features)\n",
        "\n",
        "    # Video features\n",
        "    resized_frames = resize_frames(video_path)\n",
        "    pose_landmarks = pose_estimation(resized_frames)\n",
        "    video_features = Convert_Pose_To_Features(pose_landmarks)\n",
        "    video_features_list.append(video_features)\n",
        "\n",
        "    label = os.path.basename(audio_path).split(\"_\")[0]\n",
        "    labels.append(label)\n",
        "\n",
        "audio_features_array = np.array(audio_features_list)\n",
        "video_features_array = np.array(video_features_list)"
      ]
    },
    {
      "cell_type": "code",
      "execution_count": null,
      "metadata": {
        "id": "K0DajzF8b8C9"
      },
      "outputs": [],
      "source": [
        "!pip install mediapipe"
      ]
    },
    {
      "cell_type": "code",
      "execution_count": null,
      "metadata": {
        "id": "EPSJFe58ceJE"
      },
      "outputs": [],
      "source": [
        "import cv2\n",
        "import mediapipe as mp\n",
        "from tensorflow import keras\n",
        "from tensorflow.keras import layers"
      ]
    },
    {
      "cell_type": "code",
      "execution_count": null,
      "metadata": {
        "id": "MeyExH86VzMR"
      },
      "outputs": [],
      "source": [
        "mp_holistic = mp.solutions.holistic.Holistic(min_detection_confidence=0.5, min_tracking_confidence=0.5)\n",
        "mp_drawing = mp.solutions.drawing_utils\n",
        "\n",
        "def Mediapipe_Detection(image, model):\n",
        "    image = cv2.cvtColor(image, cv2.COLOR_BGR2RGB)\n",
        "    image.flags.writeable = False\n",
        "    results = model.process(image)\n",
        "    image.flags.writeable = True\n",
        "    image = cv2.cvtColor(image, cv2.COLOR_RGB2BGR)\n",
        "    return image, results"
      ]
    },
    {
      "cell_type": "code",
      "execution_count": null,
      "metadata": {
        "id": "qkiW6_ztcnhP"
      },
      "outputs": [],
      "source": [
        "def draw_styled_landmarks(image, results):\n",
        "\n",
        "    # pose\n",
        "    mp_drawing.draw_landmarks(image, results.pose_landmarks, mp_holistic.POSE_CONNECTIONS,\n",
        "                             mp_drawing.DrawingSpec(color=(80,22,10), thickness=2, circle_radius=4),\n",
        "                             mp_drawing.DrawingSpec(color=(80,44,121), thickness=2, circle_radius=2)\n",
        "                             )\n",
        "    # face\n",
        "    mp_drawing.draw_landmarks(image, results.face_landmarks, mp_holistic.FACEMESH_TESSELATION,\n",
        "                             mp_drawing.DrawingSpec(color=(80,110,10), thickness=1, circle_radius=1),\n",
        "                             mp_drawing.DrawingSpec(color=(80,256,121), thickness=1, circle_radius=1)\n",
        "                             )\n",
        "    # left hand\n",
        "    mp_drawing.draw_landmarks(image, results.left_hand_landmarks, mp_holistic.HAND_CONNECTIONS,\n",
        "                             mp_drawing.DrawingSpec(color=(121,22,76), thickness=2, circle_radius=4),\n",
        "                             mp_drawing.DrawingSpec(color=(121,44,250), thickness=2, circle_radius=2)\n",
        "                             )\n",
        "    # right hand\n",
        "    mp_drawing.draw_landmarks(image, results.right_hand_landmarks, mp_holistic.HAND_CONNECTIONS,\n",
        "                             mp_drawing.DrawingSpec(color=(245,117,66), thickness=2, circle_radius=4),\n",
        "                             mp_drawing.DrawingSpec(color=(245,66,230), thickness=2, circle_radius=2)\n",
        "                             )"
      ]
    },
    {
      "cell_type": "code",
      "execution_count": null,
      "metadata": {
        "id": "e_TdL7V8cqIl"
      },
      "outputs": [],
      "source": [
        "def extract_keypoints(results):\n",
        "    pose = np.array([[res.x, res.y, res.z, res.visibility] for res in results.pose_landmarks.landmark]).flatten() if results.pose_landmarks else np.zeros(33*4)\n",
        "    face = np.array([[res.x, res.y, res.z] for res in results.face_landmarks.landmark]).flatten() if results.face_landmarks else np.zeros(468*3)\n",
        "    lh = np.array([[res.x, res.y, res.z] for res in results.left_hand_landmarks.landmark]).flatten() if results.left_hand_landmarks else np.zeros(21*3)\n",
        "    rh = np.array([[res.x, res.y, res.z] for res in results.right_hand_landmarks.landmark]).flatten() if results.right_hand_landmarks else np.zeros(21*3)\n",
        "    return np.concatenate([pose, face, lh, rh])"
      ]
    },
    {
      "cell_type": "code",
      "execution_count": null,
      "metadata": {
        "id": "3R2mSijDe0Ap"
      },
      "outputs": [],
      "source": [
        "def plot_accuracy_and_loss(history):\n",
        "\n",
        "    plt.figure(figsize=(12, 5))\n",
        "\n",
        "    # Accuracy\n",
        "    plt.subplot(1, 2, 1)\n",
        "    plt.plot(history.history['accuracy'], label='Training Accuracy')\n",
        "    plt.plot(history.history['val_accuracy'], label='Validation Accuracy')\n",
        "    plt.title('Training and Validation Accuracy')\n",
        "    plt.xlabel('Epochs')\n",
        "    plt.ylabel('Accuracy')\n",
        "    plt.legend()\n",
        "\n",
        "    # Loss\n",
        "    plt.subplot(1, 2, 2)\n",
        "    plt.plot(history.history['loss'], label='Training Loss')\n",
        "    plt.plot(history.history['val_loss'], label='Validation Loss')\n",
        "    plt.title('Training and Validation Loss')\n",
        "    plt.xlabel('Epochs')\n",
        "    plt.ylabel('Loss')\n",
        "    plt.legend()\n",
        "\n",
        "    plt.tight_layout()\n",
        "    plt.show()"
      ]
    },
    {
      "cell_type": "code",
      "execution_count": null,
      "metadata": {
        "id": "c2Ghnqkrcsvj"
      },
      "outputs": [],
      "source": [
        "def build_lstm_model(input_shape, num_classes):\n",
        "    model = keras.Sequential([\n",
        "        layers.LSTM(64, return_sequences=True, activation='relu', input_shape=input_shape),\n",
        "        layers.LSTM(128, return_sequences=True, activation='relu'),\n",
        "        layers.LSTM(64, activation='relu'),\n",
        "        layers.Dense(num_classes, activation='softmax')\n",
        "    ])\n",
        "    model.compile(loss='categorical_crossentropy', optimizer='adam', metrics=['accuracy'])\n",
        "    return model"
      ]
    },
    {
      "cell_type": "code",
      "execution_count": null,
      "metadata": {
        "id": "jIzSzldVc9Zj"
      },
      "outputs": [],
      "source": [
        "def train_model(model, x_train, y_train, x_val, y_val, epochs=20, batch_size=32):\n",
        "    history = model.fit(\n",
        "        x_train, y_train,\n",
        "        validation_data=(x_val, y_val),\n",
        "        epochs=epochs,\n",
        "        batch_size=batch_size\n",
        "    )\n",
        "\n",
        "    return history"
      ]
    },
    {
      "cell_type": "code",
      "execution_count": null,
      "metadata": {
        "id": "p5d7tsliedJe"
      },
      "outputs": [],
      "source": [
        "def evaluate_model(model, x_test, y_test):\n",
        "    loss, accuracy = model.evaluate(x_test, y_test)\n",
        "    print(f'Test Loss: {loss}, Test Accuracy: {accuracy}')"
      ]
    },
    {
      "cell_type": "code",
      "execution_count": null,
      "metadata": {
        "id": "8S85_DpndNiT"
      },
      "outputs": [],
      "source": [
        "from sklearn.preprocessing import LabelEncoder\n",
        "from tensorflow.keras.utils import to_categorical\n",
        "from sklearn.model_selection import train_test_split"
      ]
    },
    {
      "cell_type": "code",
      "execution_count": null,
      "metadata": {
        "id": "S7CUH3DEdDKk"
      },
      "outputs": [],
      "source": [
        "Label = LabelEncoder()\n",
        "Labels_encoded = Label.fit_transform(labels)\n",
        "Num_classes = len(Label.classes_)\n",
        "\n",
        "\n",
        "labels_onehot = to_categorical(Labels_encoded, num_classes=Num_classes)\n",
        "\n",
        "\n",
        "X_train, X_test, y_train, y_test = train_test_split(\n",
        "    video_features_array, labels_onehot, test_size=0.2, random_state=42\n",
        ")\n",
        "\n",
        "X_train, X_val, y_train, y_val = train_test_split(\n",
        "    X_train, y_train, test_size=0.25, random_state=42\n",
        ")"
      ]
    },
    {
      "cell_type": "code",
      "execution_count": null,
      "metadata": {
        "id": "ONRXnmCTdaP5"
      },
      "outputs": [],
      "source": [
        "input_shape = (X_train.shape[1], X_train.shape[2])\n",
        "model = build_lstm_model(input_shape, Num_classes)\n",
        "history = train_model(model, X_train, y_train, X_val, y_val, epochs= 50 , batch_size=32)"
      ]
    },
    {
      "cell_type": "code",
      "execution_count": null,
      "metadata": {
        "id": "U6w26yOgfGEj"
      },
      "outputs": [],
      "source": [
        "plot_accuracy_and_loss(history)"
      ]
    },
    {
      "cell_type": "code",
      "execution_count": null,
      "metadata": {
        "id": "3zT7wqjHeXEk"
      },
      "outputs": [],
      "source": [
        "evaluate_model(model, X_test, y_test)"
      ]
    },
    {
      "cell_type": "code",
      "execution_count": null,
      "metadata": {
        "id": "y3hFZ9zxc2j0"
      },
      "outputs": [],
      "source": [
        "cap = cv2.VideoCapture(0)\n",
        "\n",
        "while cap.isOpened():\n",
        "    ret, frame = cap.read()\n",
        "    image, results = Mediapipe_Detection(frame, mp_holistic)\n",
        "    draw_styled_landmarks(image, results)\n",
        "\n",
        "    keypoints = extract_keypoints(results)\n",
        "\n",
        "    keypoints = keypoints.reshape(1, -1)\n",
        "\n",
        "    keypoints = keypoints.reshape(1, 1, keypoints.shape[1])\n",
        "\n",
        "    prediction = model.predict(keypoints)[0]\n",
        "\n",
        "    predicted_class_index = np.argmax(prediction)\n",
        "    predicted_class_label = Label.classes_[predicted_class_index]\n",
        "\n",
        "    cv2.putText(image, predicted_class_label, (50, 50), cv2.FONT_HERSHEY_SIMPLEX, 1, (0, 255, 0), 2)\n",
        "\n",
        "    cv2.imshow('OpenCV Feed', image)\n",
        "    if cv2.waitKey(10) & 0xFF == ord('q'):\n",
        "        break\n",
        "\n",
        "cap.release()\n",
        "cv2.destroyAllWindows()"
      ]
    }
  ],
  "metadata": {
    "accelerator": "GPU",
    "colab": {
      "gpuType": "T4",
      "provenance": []
    },
    "kernelspec": {
      "display_name": "Python 3",
      "name": "python3"
    },
    "language_info": {
      "name": "python"
    }
  },
  "nbformat": 4,
  "nbformat_minor": 0
}
